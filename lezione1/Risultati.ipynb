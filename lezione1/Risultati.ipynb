{
 "cells": [
  {
   "cell_type": "markdown",
   "id": "3b7beb65",
   "metadata": {},
   "source": [
    "# RISULTATI ESERCITAZIONE 1\n",
    "\n",
    "Per compilare i programmi scritti in c++, è sufficiente digitare il comando \"make compila\".\n",
    "\n",
    "## Esercizio 1\n",
    "Il primo esercizio ha come scopo di verificare il funzionamento del generatore di numeri casuali.\n",
    "\n",
    "Il primo punto dell'esercizio 1 chiede di calcolare il valore medio di $r$, ossia $\\langle r \\rangle = \\int_0^1 r dr = 1/2$, con il relativo errore, che corrisponde alla deviazione standard della media, attraverso il metodo della media, generando numeri casuali uniformemente distribuiti tra zero e uno, e il data blocking per verificare il funzionamento del generatore di numeri casuali. Il grafico di seguito rappresenta il valore medio di $r$ in funzione del numero di blocchi $N$ per un numero di lanci $M=100000$ ottenuto attraverso il programma esercizio1.exe:"
   ]
  },
  {
   "cell_type": "markdown",
   "id": "8a12aedf",
   "metadata": {},
   "source": [
    "<img src=\"Pictures/valor_medio_r.jpg\">"
   ]
  },
  {
   "cell_type": "markdown",
   "id": "9c43cc68",
   "metadata": {},
   "source": [
    "Come si può notare dal grafico, il valor medio di r oscilla per bassi $N$ e solo dopo un certo numero di blocchi si stabilizza attorno ad un certo valore. Per $N$ = 100, il valore di $\\langle r \\rangle$, dato dal programma esercizio1.exe, è: $\\langle r \\rangle = 0.501438 ± 0.001012$. Per verificare se il valore ottenuto con la simulazione Monte Carlo è compatibile col valore teorico, corrispondente a 1/2, è possibile usare la $z$ di Gauss. La $z$ di Gauss per definizione è: $$z = \\frac{\\left|x - \\mu \\right|} {\\sigma},$$ dove $x$ e $\\sigma$ sono rispettivamente il valore medio e l'errore della grandezza ottenuta dalla simulazione e $\\mu$ il valore atteso di tale grandezza. Applicando la formula di $z$ al caso in questione, si ottiene:"
   ]
  },
  {
   "cell_type": "code",
   "execution_count": 1,
   "id": "02543a06",
   "metadata": {},
   "outputs": [
    {
     "name": "stdout",
     "output_type": "stream",
     "text": [
      "1.42094861660084\n"
     ]
    }
   ],
   "source": [
    "print((0.501438 - 0.5) / 0.001012)"
   ]
  },
  {
   "cell_type": "markdown",
   "id": "3f3dba6e",
   "metadata": {},
   "source": [
    "Usando le tabelle gaussiane, si ottiene che a $z = 1.42$ corrisponde una compatibilità del 15.56%, quindi il valore ottenuto dalla simulazione è compatibile col valore teorico. \n",
    "\n",
    "La seconda parte dell'esercizio 1 richiede il calcolo della varianza di $r$, ossia di calcolare $\\sigma^2 = \\int_0^1 (r-1/2)^2 dr$. Il procedimento del calcolo della varianza di $r$ è stato analogo al calcolo del valore medio di $r$: è stato utilizzato il metodo della media, generando numeri casuali uniformemente compresi tra zero e uno, e il data blocking con $N=100$ e $M=100000$ per il calcolo dell'integrale. Il grafico della varianza di $r$ in funzione del numero di blocchi ottenuto col programma esercizio1.exe è il seguente:"
   ]
  },
  {
   "cell_type": "markdown",
   "id": "5299c7f8",
   "metadata": {},
   "source": [
    "<img src=\"Pictures/varianza_r.jpg\">"
   ]
  },
  {
   "cell_type": "markdown",
   "id": "1a8fdc70",
   "metadata": {},
   "source": [
    "Possono essere fatte considerazioni analoghe a quelle del grafico di $\\langle r \\rangle$ in funzione di $N$: per i primi blocchi, il valore della varianza oscilla e solo per un numero abbastanza elevato di $N$ si stabilizza attorno ad un certo valore con un determinato errore. Conoscendo il valore teorico di $\\sigma^2$, ossia 1/12, è possibile valutare la $z$ di Gauss con la formula già usata in precedenza. Poiché, dal programma esercizio1.exe, si ottiene che, per $N = 100$, $\\sigma^2 = 0.0834675 ± 0.0002238$, la $z$ gaussiana è:"
   ]
  },
  {
   "cell_type": "code",
   "execution_count": 2,
   "id": "e3a52475",
   "metadata": {},
   "outputs": [
    {
     "name": "stdout",
     "output_type": "stream",
     "text": [
      "0.5994935954721685\n"
     ]
    }
   ],
   "source": [
    "print((0.0834675 - (1 / 12)) / 0.0002238)"
   ]
  },
  {
   "cell_type": "markdown",
   "id": "8cddfc5f",
   "metadata": {},
   "source": [
    "Per una z di Gauss pari a 0.60, la percentuale associata è 54.84%, quindi il valore di $\\sigma^2$ trovato con la simulazione Monte Carlo è compatibile con il valore teorico.\n",
    "\n",
    "L'ultima parte dell'esercizio 1 richiede di generare $n = 10^4$ numeri casuali compresi uniformemente tra zero ed uno, suddividere l'intervallo $[0,1]$ in $M = 100$ intervalli e calcolare il chi quadrato attraverso la seguente formula: $$\\chi^2 = \\sum_{i=1}^M \\frac{\\left( n_i - n/M \\right)^2}{n/M},$$ il tutto ripetuto per 100 volte, in modo da ottenere 100 valori di $\\chi^2$. La seguente immagine riporta la distribuzione di $ \\chi^2 $ ottenuta col programma esercizio1.exe:"
   ]
  },
  {
   "cell_type": "markdown",
   "id": "7d3759cf",
   "metadata": {},
   "source": [
    "<img src=\"Pictures/chi_quadrato.jpg\">"
   ]
  },
  {
   "cell_type": "markdown",
   "id": "09de6a94",
   "metadata": {},
   "source": [
    "Come si può notare dall'immagine, la media dei chi quadrati ottenuti dalla simulazione Monte Carlo è 98.09. Dal punto di vista teorico, la media dovrebbe essere circa pari a $n/M$, ossia a 100. La media di $\\chi^2$ ottenuto dalla simulazione è leggermente minore di 100: ciò significa che i numeri generati sono compatibili con una distribuzione uniforme.\n",
    "\n",
    "Dati i risultati positivi di ciascun punto dell'esercizio, è stato verificato il corretto funzionamento del generatore di numeri casuali.\n",
    "\n",
    "## Esercizio 2"
   ]
  },
  {
   "cell_type": "markdown",
   "id": "ddcce74f",
   "metadata": {},
   "source": [
    "L'esercizio 2 ha due scopi:\n",
    "1) estendere il generatore di numeri casuali aggiungendo due metodi per generare numeri casuali che seguono una distribuzione esponenziale e di Cauchy-Lorentz;\n",
    "\n",
    "2) creare tre istogrammi le cui entrate sono $S_N = \\frac{1}{N}\\sum_{i=1}^N x_i$ con $N = 100$ e dove $x_i$ per ciascun istogramma è una variabile aleatoria che si campiona lanciando rispettivamente un dado standard, uno esponenziale e uno Lorentziano.\n",
    "\n",
    "La formula per generare numeri casuali che seguono una distribuzione esponenziale e Lorentziana può essere trovata attraverso il teorema della funzione inversa: si può calcolare la funzione cumulativa, uguagliarla a $y$, dove $y$ è una variabile aleatoria distribuita uniformemente tra 0 e 1, e trovare $x = F^{-1} (y)$. Utilizzando questo ragionamento, si ottiene che:\n",
    "- per una distribuzione esponenziale $p(x) = - \\lambda exp(- \\lambda x)$ con $x\\in [0;+\\infty]$, $x$ segue tale distribuzione se $x = - \\frac {log(1-y)} {\\lambda}$;\n",
    "\n",
    "- per una distribuzione di Cauchy-Lorentz $p(x) = \\frac{1}{\\pi}\\frac{\\Gamma}{(x-\\mu)^2+\\Gamma^2}$ con $x\\in [-\\infty;+\\infty]$, $x$ segue tale distribuzione se $x = \\mu + \\gamma tan(\\pi(y-0.5))$.\n",
    "\n",
    "Implementando due metodi in random.h e random.cpp con le formule precedenti, è risolto il primo punto dell'esercizio.\n",
    "\n",
    "Per quanto riguarda il punto 2), l'istogramma ottenuto col programma esercizio2.exe campionando $x_i$ lanciando un dado standard è il seguente:"
   ]
  },
  {
   "cell_type": "markdown",
   "id": "1007b840",
   "metadata": {},
   "source": [
    "<img src = \"Pictures/standard-dice.jpg\">"
   ]
  },
  {
   "cell_type": "markdown",
   "id": "b9bcec14",
   "metadata": {},
   "source": [
    "Per l'istogramma ottenuto è stato fatto il fit con una gaussiana: infatti, per il caso in questione sono soddisfatte le ipotesi del teorema del limite centrale e, quindi, $S_N$ si distribuisce secondo una gaussiana. Il valore del chi quadrato ottenuto dal fit è: $\\chi^2 = 103.068$. Poiché l'istogramma ha 100 classi, i gradi di libertà per calcolare il chi quadrato ridotto sono 97 e, quindi, è possibile calcolare $\\chi _{ridotto} ^2$ con la seguente formula: $$\\chi _{ridotto} ^2 = \\frac {\\chi^2} {n - 3},$$ dove n corrisponde al numero di classi dell'istogramma, ossia 100 in questo caso. Applicando la formula del chi quadrato ridotto al caso in questione, si ottiene:"
   ]
  },
  {
   "cell_type": "code",
   "execution_count": 1,
   "id": "c7770ad6",
   "metadata": {},
   "outputs": [
    {
     "name": "stdout",
     "output_type": "stream",
     "text": [
      "1.0625567010309278\n"
     ]
    }
   ],
   "source": [
    "print(103.068 / 97)"
   ]
  },
  {
   "cell_type": "markdown",
   "id": "214142ae",
   "metadata": {},
   "source": [
    "Per 97 gradi di libertà, la probabilità di ottenere un $\\chi _{ridotto} ^2 $ superiore a 1.06 supera il 20%, quindi l'istogramma generato dalla simulazione Monte Carlo è compatibile con una gaussiana. Dall'istogramma si può notare che la media della gaussiana è 3.501. Il teorema del limite centrale prevede che per $\\lim_{N \\to \\infty} \\langle S_N \\rangle = \\mu $, dove $\\mu$ corrisponde alla media attesa per un lancio di un dado standard, ossia 3.5: il valore ottenuto di $\\langle S_N \\rangle $ dalla simulazione si avvicina a $\\mu$. Per quanto riguarda la varianza, invece, il teorema del limite centrale prevede che $\\lim_{N \\to \\infty} \\sigma_{S_N}^2 = \\frac {\\sigma^2} {N}$. Nel caso in questione $ \\sigma_{S_N}^2 $ è:"
   ]
  },
  {
   "cell_type": "code",
   "execution_count": 2,
   "id": "0c13b0c4",
   "metadata": {},
   "outputs": [
    {
     "name": "stdout",
     "output_type": "stream",
     "text": [
      "0.028696359999999997\n"
     ]
    }
   ],
   "source": [
    "print(0.1694**2)"
   ]
  },
  {
   "cell_type": "markdown",
   "id": "341c8e46",
   "metadata": {},
   "source": [
    "Il valore atteso della varianza per il lancio di un dado standard è circa $\\sigma^2 = 2.917$. Dividendo per 100 $\\sigma^2$ si ottiene 0.02917, che si avvicina al valore di $ \\sigma_{S_N}^2 $ ottenuto dalla simulazione.\n",
    "\n",
    "L'istogramma, creato dal programma esercizio2.exe, le cui entrate sono $S_N$, ottenute campionando $x_i$ lanciando un dado esponenziale, è il seguente:"
   ]
  },
  {
   "cell_type": "markdown",
   "id": "2cacefe1",
   "metadata": {},
   "source": [
    "<img src = \"Pictures/exponential_dice.jpg\">"
   ]
  },
  {
   "cell_type": "markdown",
   "id": "8441faa8",
   "metadata": {},
   "source": [
    "Anche per questo caso, sono soddisfatte le ipotesi del teorema del limite centrale, quindi è possibile fare il fit dell'istogramma con una gaussiana. Il valore del chi quadrato ottenuto è $\\chi^2 = 111.644 $. Il numero di intervalli in cui è stato suddiviso l'istogramma è 200, quindi il chi quadrato ridotto ottenuto, utilizzando la formula già utilizzata in precedenza, è:"
   ]
  },
  {
   "cell_type": "code",
   "execution_count": 3,
   "id": "ef84516b",
   "metadata": {},
   "outputs": [
    {
     "name": "stdout",
     "output_type": "stream",
     "text": [
      "0.5667208121827412\n"
     ]
    }
   ],
   "source": [
    "print(111.644 / 197)"
   ]
  },
  {
   "cell_type": "markdown",
   "id": "2a76be53",
   "metadata": {},
   "source": [
    "Poiché il $\\chi_{ridotto}^2$ ottenuto è minore di 1, l'istogramma è compatibile con una gaussiana. La media ottenuta dall'istogramma è 0.9984, mentre la media prevista dal teorema del limite centrale è quella di una distribuzione esponenziale, ossia $1/\\lambda$ (quindi 1 dato che per l'esercizio è stato posto $\\lambda = 1$). La media attesa e quella ottenuta dalla simulazione sono simili. L'ultima grandezza da verificare è la varianza: la varianza attesa di una distribuzione esponenziale è $1/\\lambda^2$, quindi 1 per $\\lambda = 1$, mentre la varianza ottenuta dalla simulazione è:"
   ]
  },
  {
   "cell_type": "code",
   "execution_count": 4,
   "id": "e72fe92d",
   "metadata": {},
   "outputs": [
    {
     "name": "stdout",
     "output_type": "stream",
     "text": [
      "0.009962036099999998\n"
     ]
    }
   ],
   "source": [
    "print(0.09981**2)"
   ]
  },
  {
   "cell_type": "markdown",
   "id": "89be546d",
   "metadata": {},
   "source": [
    "Il teorema del limite centrale afferma che $\\lim_{N \\to \\infty} \\sigma_{S_N}^2 = \\frac {\\sigma^2} {N}$. Dividendo per $N=100$ la quantità $\\sigma^2$, si ottiene 0.01, che è vicino a $\\sigma_{S_N}^2$, come si voleva verificare.\n",
    "\n",
    "L'ultimo istogramma da analizzare è quello ottenuto campionando le $x_i$ lanciando un dado lorentziano. L'istogramma ottenuto col programma esercizio2.exe è il seguente:"
   ]
  },
  {
   "cell_type": "markdown",
   "id": "6bdfce14",
   "metadata": {},
   "source": [
    "<img src = \"Pictures/lorentzian_dice.jpg\">"
   ]
  },
  {
   "cell_type": "markdown",
   "id": "44c5fd14",
   "metadata": {},
   "source": [
    "Come si può notare dalla figura, non può essere eseguito un fit con una gaussiana dell'istogramma ottenuto: infatti, sono presenti delle code e un picco ripido, caratteristiche di una lorentziana, non di una gaussiana. Questo risultato può essere spiegato dal fatto che le variabili $x_i$ distribuite secondo una lorentziana non soddisfano le ipotesi del teorema del limite centrale in quanto la loro varianza è $\\infty$ e quindi la loro somma non converge ad una gaussiana, ma ad una lorentziana.\n",
    "\n",
    "## Esercizio 3\n",
    "\n"
   ]
  },
  {
   "cell_type": "markdown",
   "id": "f21e2410",
   "metadata": {},
   "source": [
    "L'esercizio 3 richiede di calcolare il Pi greco attraverso l'esperimento di Buffon. Per l'esercizio è stato scelto un numero di lanci dell'ago pari a $N_{thr} = 10000$. Per generare un singolo valore di Pi greco è stato fatto il seguente procedimento: è stato generato un numero casuale $s$ uniformemente compreso tra 0 e $d$, dove $d$ è la distanza tra le linee orizzontali parallele tra di loro, che determina la distanza tra una estremità dell'ago e la linea al di sotto di tale estremità, poi è stato generato un numero $\\theta$ uniformemente compreso tra 0 e $2 \\pi$ attraverso il metodo accept-reject (in modo da non utilizzare $\\pi$ per calcolare $\\pi$) che rappresenta come è girato l'ago nel piano (un angolo pari a $\\theta = 0$ significa che l'ago è disposto parallelamente rispetto alle linee orizzontali in cui è stato suddiviso il piano) ed è stato incrementato un contatore $N_{hit}$ nel caso in cui l'ago intersecasse una delle linee orizzontali, condizione soddisfatta se $s+L\\sin(\\theta)) < 0$ o $(s+L\\sin(\\theta)) > d$, dove $L$ è la lunghezza dell'ago, e infine è stato ripetuto questo passaggio per $N_{thr}$ volte ed è stato stimato $\\pi$ con la seguente formula: $$\\pi = \\frac{2LN_{thr}}{N_{hit}d}.$$ Per avere una stima del valore di $\\pi$ è stato usato il data blocking con $N=50$ e $M=10000$. Il seguente grafico, ottenuto dal programma esercizio3.exe, mostra $\\pi$ in funzione del numero di blocchi $N$ ottenuto col programma esercizio3.exe:"
   ]
  },
  {
   "cell_type": "markdown",
   "id": "5b0dfdf5",
   "metadata": {},
   "source": [
    "<img src = \"Pictures/Pi_greca.jpg\">"
   ]
  },
  {
   "cell_type": "markdown",
   "id": "1fcd859a",
   "metadata": {},
   "source": [
    "Si può notare che per piccoli $N$ la stima di Pi greco oscilla e solo dopo un certo numero di blocchi si stabilizza attorno ad un certo valore con un determinato errore. Il numero di blocchi utilizzato nell'esercizio è $N = 50$ ed è stato ottenuto che per $N=50$ $\\pi = 3.14162 ± 0.00033$. Il valore teorico di Pi greco è $\\pi=3.14159$. Per verificare la compatibilità del valore ottenuto dalla simulazione Monte Carlo di $\\pi$ con il valore teorico è possibile utilizzare la z di Gauss, calcolabile con la formula già enunciata in precedenza:"
   ]
  },
  {
   "cell_type": "code",
   "execution_count": 3,
   "id": "5c11dedc",
   "metadata": {},
   "outputs": [
    {
     "name": "stdout",
     "output_type": "stream",
     "text": [
      "0.09090909090968648\n"
     ]
    }
   ],
   "source": [
    "print((3.14162-3.14159) / 0.00033)"
   ]
  },
  {
   "cell_type": "markdown",
   "id": "33a5b867",
   "metadata": {},
   "source": [
    "La compatibilità legata ad una $z = 0.09$ è del 92.82%, quindi il valore di $\\pi$ ottenuto dalla simulazione è compatibile con il valore atteso di $\\pi$.\n",
    "\n",
    "## Osservazioni per il data blocking\n",
    "\n",
    "Per il data blocking, fissato il numero di lanci $M$, è possibile scegliere diversi $N$. Le limitazioni relative alla scelta di $N$ sono 3:\n",
    "- $N$ deve essere un divisore di $M$ in modo tale che ciascun blocco possa contenere lo stesso numero di dati;\n",
    "- $N$ non deve essere troppo piccolo: infatti, se così fosse, si potrebbe ottenere una stima non ottimale dell'errore della grandezza calcolata;\n",
    "- $N$ non deve essere troppo grande: infatti, in questo caso, l'efficienza dell'algoritmo diminuisce in quanto aumenta il tempo di calcolo e i blocchi diventano fortemente correlati."
   ]
  }
 ],
 "metadata": {
  "kernelspec": {
   "display_name": "Python 3",
   "language": "python",
   "name": "python3"
  },
  "language_info": {
   "codemirror_mode": {
    "name": "ipython",
    "version": 3
   },
   "file_extension": ".py",
   "mimetype": "text/x-python",
   "name": "python",
   "nbconvert_exporter": "python",
   "pygments_lexer": "ipython3",
   "version": "3.8.8"
  }
 },
 "nbformat": 4,
 "nbformat_minor": 5
}
