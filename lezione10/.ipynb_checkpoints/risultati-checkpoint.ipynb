{
 "cells": [
  {
   "cell_type": "markdown",
   "id": "b276ee87",
   "metadata": {},
   "source": [
    "# RISULTATI ESERCITAZIONE 10\n",
    "\n",
    "## Esercizio 1\n",
    "\n",
    "Per l'esercitazione è stato scelto di fare il punto 1, ossia di utilizzare un algoritmo genetico con una ricerca in parallelo. Ogni $N_{migr}=2$, ciascun nodo scambia in modo casuale la migliore sequenza con gli altri nodi. L'algoritmo genetico utilizzato è lo stesso di quello utilizzato per l'esercitazione 9. Per scambiare le migliori sequenze tra i diversi processi, è stato utilizzato il comando $MPI\\_Allgather$ e poi ciascun nodo ha sostituito casualmente la sua migliore sequenza con quella di un altro.\n",
    "\n",
    "## Esercizio 2\n",
    "\n",
    "L'esercizio richiede di risolvere il TSP per le $N=50$ città utilizzando la programmazione in parallelo. Per l'esercizio sono stati utilizzati $6$ nodi e per l'algoritmo genetico sono stati utilizzati i seguenti dati:\n",
    "- probabilità di crossover $= 0.9$;\n",
    "- probabilità di mutazione $= 0.02$;\n",
    "- popolazione per ciascun nodo $= 200$;\n",
    "- numero di generazioni $= 10$.\n",
    "\n",
    "Con questi dati, il programma esercizio2_parte1.exe crea per ciascun nodo il file con la migliore sequenza e il fitness relativo a tale sequenza. Il programma esercizio2_parte2.exe individua tra tutte le sequenze la migliore trovata e disegna il percorso che minimizza la distanza percorsa. Scambiando le migliori sequenze ogni $2$ generazioni, il miglior percorso ottenuto è riportato di seguito:"
   ]
  },
  {
   "cell_type": "markdown",
   "id": "1cf83021",
   "metadata": {},
   "source": [
    "<img src = \"Pictures/percorso_dip.jpg\">"
   ]
  },
  {
   "cell_type": "markdown",
   "id": "51ef03be",
   "metadata": {},
   "source": [
    "A questo percorso corrisponde un fitness pari a $268.371$. In particolare, questa sequenza è stata trovata dal nodo $4$ alla quinta generazione e alla decima generazione è stata trovata da $5$ su $6$ nodi. Per verificare l'efficacia dello scambio delle migliori sequenze tra i processori, è stato svolto l'esercizio utilizzando gli stessi generatori di numeri casuali in modo tale che le ricerche del migliore percorso fossero indipendenti. Di seguito è riportato il percorso migliore così trovato:"
   ]
  },
  {
   "cell_type": "markdown",
   "id": "d8b4427e",
   "metadata": {},
   "source": [
    "<img src = \"Pictures/percorso_indip.jpg\">"
   ]
  },
  {
   "cell_type": "markdown",
   "id": "a08535cc",
   "metadata": {},
   "source": [
    "Come si può notare, è stato trovato lo stesso percorso del caso precedente. Tuttavia, la sequenza relativa a tale percorso è stata trovata per la prima volta alla sesta generazione da un nodo ed entro la decima generazione solo tale nodo l'ha trovata. Quindi, lo scambio delle migliori sequenze tra i diversi nodi ha velocizzato la convergenza dell'algoritmo permettendo di trovare il percorso migliore alla quinta generazione invece che alla sesta ed entro la decima ha permesso di farlo trovare a $5$ nodi su $6$ invece che ad uno solo. Concludendo, si può affermare che, nel caso dell'algoritmo genetico utilizzato, lo scambio delle migliori sequenze tra i continenti conviene in quanto ha permesso di trovare il percorso migliore più velocemente e a più nodi."
   ]
  }
 ],
 "metadata": {
  "kernelspec": {
   "display_name": "Python 3",
   "language": "python",
   "name": "python3"
  },
  "language_info": {
   "codemirror_mode": {
    "name": "ipython",
    "version": 3
   },
   "file_extension": ".py",
   "mimetype": "text/x-python",
   "name": "python",
   "nbconvert_exporter": "python",
   "pygments_lexer": "ipython3",
   "version": "3.8.8"
  }
 },
 "nbformat": 4,
 "nbformat_minor": 5
}
