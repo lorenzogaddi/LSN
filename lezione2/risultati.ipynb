{
 "cells": [
  {
   "cell_type": "markdown",
   "id": "f4ca1ff0",
   "metadata": {},
   "source": [
    "# RISULTATI ESERCITAZIONE 2\n",
    "\n",
    "Per compilare i programmi scritti in c++, è sufficiente digitare il comando \"make compila\"\n",
    "\n",
    "## Esercizio 1\n",
    "\n",
    "Il primo esercizio ha come scopo di calcolare il seguente integrale $$I = \\int_0^1 \\frac{\\pi}{2}\\cos(\\pi x/2) dx = 1$$ in 2 modi:\n",
    "1) campionando numeri casuali uniformemente distribuiti tra zero e uno;\n",
    "\n",
    "2) campionando numeri che seguono una distribuzione di probabilità non uniforme.\n",
    "\n",
    "Di seguito è elencato il risultato del punto 1) dell'esercizio. Per calcolare l'integrale è stato usato il metodo della media, generando numeri casuali uniformemente distribuiti tra zero ed uno, e il data blocking con un numero di blocchi pari a $N=100$ e lanci $M=100000$. Di seguito è riportato il grafico del valore dell'integrale in funzione del numero di blocchi $N$ ottenuto col programma esercizio1.exe:"
   ]
  },
  {
   "cell_type": "markdown",
   "id": "66eb8fc1",
   "metadata": {},
   "source": [
    "<img src = \"Pictures/unif.jpg\">"
   ]
  },
  {
   "cell_type": "markdown",
   "id": "d22aa7a0",
   "metadata": {},
   "source": [
    "Come è possibile osservare dal grafico, per i primi blocchi, il valore dell'integrale oscilla fino a stabilizzarsi attorno ad un certo valore con un determinato errore per un $N$ abbastanza elevato. Il valore finale di $I$ ottenuto per $N=100$ è $1.00033 ± 0.00151$. Per verificare la compatibilità con il valore atteso di $I$, ossia 1, è possibile calcolare la $z$ di Gauss con la seguente formula: $$z = \\frac{\\left|x - \\mu \\right|} {\\sigma},$$ dove $x$ e $\\sigma$ sono rispettivamente il valore medio e l'errore della grandezza ottenuta dalla simulazione e $\\mu$ il valore atteso di tale grandezza. La $z$ legata alla stima di $I$ ottenuta col programma è:"
   ]
  },
  {
   "cell_type": "code",
   "execution_count": 1,
   "id": "7bdbbb54",
   "metadata": {},
   "outputs": [
    {
     "name": "stdout",
     "output_type": "stream",
     "text": [
      "0.21854304635757713\n"
     ]
    }
   ],
   "source": [
    "print((1.00033-1) / 0.00151)"
   ]
  },
  {
   "cell_type": "markdown",
   "id": "5caea1bb",
   "metadata": {},
   "source": [
    "Ad una $z$ pari a $0.22$ corrisponde una compatibilità del 82.58%, quindi il valore di $I$ stimato col metodo Monte Carlo è compatibile col valore atteso.\n",
    "\n",
    "Per il punto 2) dell'esercizio è necessario scegliere una distribuzione di probabilità non uniforme. Per il calcolo dell'integrale, in questo caso, è stata scelta una distribuzione polinomiale di primo grado $p(x) = 2 (1-x)$. La distribuzione è già normalizzata, pertanto $\\int_0^1p(x) dx = \\int_0^1 2(1-x) dx = 1$. Prima di poter procedere al calcolo dell'integrale bisogna trovare una formula per campionare $x$ con distribuzione di probabilità $p(x)$. Per far ciò è possibile utilizzare il teorema della funzione inversa: si può calcolare la funzione cumulativa $F(x)=\\int_0^x p(z) dz$ di $p(x)$, uguagliarla a $y$, dove $y$ è una variabile aleatoria uniformemente distribuita tra zero ed uno, e trovare $x= F^{-1}(y)$. Con questo procedimento si ottiene che $x$ si distribuisce con distribuzione di probabilità $p(x)$ se $x = 1 - \\sqrt{(1 - y)}$. Una stima dell'integrale è: $I=\\sum_{i=1}^n \\frac {\\pi \\cos(\\pi x/2)} {4(1 - x)}$ con $x$ generato con distribuzione p(x). Per stimare $I$ e la sua incertezza, anche in questo caso è stato usato il data blocking con $N=100$ blocchi e $M=100000$ lanci. Il grafico del valore dell'integrale in funzione di $N$ ottenuto col programma esercizio1.exe è:"
   ]
  },
  {
   "cell_type": "markdown",
   "id": "5ff15e07",
   "metadata": {},
   "source": [
    "<img src = \"Pictures/polin.jpg\">"
   ]
  },
  {
   "cell_type": "markdown",
   "id": "949e9ab9",
   "metadata": {},
   "source": [
    "Il grafico ottenuto è analogo a quello del punto 1): per i blocchi iniziali la stima e l'errore di $I$ ottenuti oscillano fortemente e solo per un $N$ abbastanza elevato si stabilizzano. Per $N=100$, il valore di $I$ ottenuto dal programma è $I=1.00011 ± 0.00040$. Si può calcolare la $z$ di Gauss con la stessa formula utilizzata per il punto 1) dell'esercizio, utilizzando per $\\mu$ il valore teorico di $I$, ossia 1:"
   ]
  },
  {
   "cell_type": "code",
   "execution_count": 2,
   "id": "38be2cd7",
   "metadata": {},
   "outputs": [
    {
     "name": "stdout",
     "output_type": "stream",
     "text": [
      "0.27500000000013625\n"
     ]
    }
   ],
   "source": [
    "print((1.00011-1) / 0.00040)"
   ]
  },
  {
   "cell_type": "markdown",
   "id": "40eaa412",
   "metadata": {},
   "source": [
    "Il valore ottenuto di $z$ è relativamente piccolo, quindi il valore di $I$ ottenuto con la simulazione Monte Carlo è compatibile con il valore atteso.\n",
    "\n",
    "Tra il punto 1) e il punto 2) si può notare una differenza sostanziale sull'errore della stima di $I$ ottenuta: per il punto 1) l'errore della stima di $I$ è 0.00151, mentre per il punto 2) è 0.00040. Il fatto che l'errore di $I$ ottenuto al punto 2) è minore di quello ottenuto al punto 1) può essere spiegato nel seguente modo: considerando $I=\\int g(x)p(x)dx$, con il metodo della media l'errore legato alla stima di $I$ diminuisce se, supponendo di generare numeri casuali distribuiti secondo $p(x)$, $p(x)$ è una funzione simile a $g(x)$. Sotto quest'ottica, la distribuzione polinomiale del punto 2) approssima in modo migliore la funzione $g(x)$ rispetto ad una distribuzione uniforme e, pertanto, l'errore della stima di $I$ è minore al punto 2).\n",
    "\n",
    "## Esercizio 2\n",
    "\n",
    "L'esercizio 2 consiste nel simulare un random walk in 3D per un numero sufficientemente alto di volte e fare i grafici di $\\sqrt{\\langle |\\vec{r}_N|^2 \\rangle_{RW}}$ in funzione dello step in 2 condizioni diverse:\n",
    "1) su un reticolo cubico con $a=1$, dove, partendo dall'origine ad ogni passo si esegue un salto in avanti o in indietro in una delle tre principali direzioni x, y o z;\n",
    "\n",
    "2) nel continuo, dove, partendo dall'origine, ad ogni passo si esegue un salto di lunghezza $a=1$ in una direzione casuale ottenuta campionando uniformemente l'angolo solido.\n",
    "\n",
    "Di seguito è mostrato il procedimento e i risultati ottenuti per il punto 1). Per risolvere il punto 1) è stato creato un vettore chiamato xyz con dimensione $3M$, dove $M$ è il numero di lanci, ossia 10000 nel programma esercizio2.exe, che contiene le coordinate x, y e z durante ogni step per gli $M$ lanci nel seguente modo: i primi tre elementi del vettore corrispondono rispettivamente alle coordinate x, y e z della prima simulazione, i successivi 3 per la seconda e così via fino a $M$ simulazioni. Per simulare uno step, è stato generato un numero $s$ intero uniformemente compreso tra zero e due e un numero casuale $r$ uniformemente distribuito tra zero e uno e, decidendo che a $s=0$ corrisponde un salto lungo x, a $s=1$ lungo y e $s=2$ lungo z e che per $r \\geq 0.5$ il salto è fatto in avanti e per $r<0.5$ in indietro, è stato riempito xyz. Estrapolando da questo vettore la quantità $r^2 = x^2+y^2+z^2$ per ciascun lancio, per ogni step è stato usato il data blocking con $N=100$ blocchi per ricavare dapprima $\\langle |\\vec{r}_N|^2 \\rangle_{RW}$ e successivamente $\\sqrt{\\langle |\\vec{r}_N|^2 \\rangle_{RW}}$. Il grafico di seguito rappresenta $\\sqrt{\\langle |\\vec{r}_N|^2 \\rangle_{RW}}$ in funzione dello step $i$, con $i$ che va da 0 a 100, ottenuto col programma esercizio2.exe:"
   ]
  },
  {
   "cell_type": "markdown",
   "id": "eb7a8985",
   "metadata": {},
   "source": [
    "<img src = \"Pictures/reticolo_cubico.jpg\">"
   ]
  },
  {
   "cell_type": "markdown",
   "id": "d1fdde6a",
   "metadata": {},
   "source": [
    "Per il grafico ottenuto è stato eseguito un fit con una funzione del tipo $f(x)=k\\sqrt x$ per verificare se i risultati indicano un comportamento diffusivo. Il chi quadrato ottenuto dal fit è $\\chi^2 = 120.681$. Si può confrontare il chi quadrato ottenuto con quello delle tabelle per verificare se i dati ottenuti sono compatibili con una funzione del tipo $f(x)=k\\sqrt x$. Per 100 gradi di libertà (il numero di gradi libertà per il chi quadrato è dato in questo caso dal numero di step effettuati, quindi 101 contando che $i$, ossia il numero di step, varia da 0 a 100, meno il numero di parametri di $f(x)$, ossia 1), la probabilità di ottenere un chi quadrato superiore a 120.681 è superiore al 5% e leggermente inferiore al 10%, quindi i dati ottenuti sono compatibili con una funzione del tipo $f(x)=k\\sqrt x$. Ciò significa che i dati ottenuti dalla simulazione Monte Carlo hanno un comportamento diffusivo. Questo risultato è in accordo con la teoria: infatti, per un random walk su un reticolo cubico in cui per un salto ciascuna direzione è equiprobabile, è previsto che $\\langle |\\vec{r}_N|^2 \\rangle_{RW}$ dipende linearmente da $i$ e, quindi, che $\\sqrt {\\langle |\\vec{r}_N|^2 \\rangle_{RW}}$ dipende dalla radice quadrata dello step.\n",
    "\n",
    "La parte due dell'esercizio è stata svolta analogamente alla prima parte, eccetto per il modo in cui sono state ricavate le coordinate per ciascun lancio ad ogni step. Infatti, in questo caso l'esercizio richiede di campionare una direzione casuale nel continuo con lunghezza di step $a = 1$ a partire dal campionamento uniforme dell'angolo solido. Per campionare uniformemente l'angolo solido, bisogna campionare l'angolo azimutale $\\phi$ uniformemente tra 0 e $2 \\pi$ e l'angolo polare $\\theta$ tra 0 e $\\pi$ con distribuzione di probabilità $p(\\theta)=\\frac {\\sin (\\theta)} {2}$, già normalizzata in quanto $\\int_0^\\pi \\frac {\\sin(\\theta)} {2} d\\theta = 1$. Per trovare la formula con cui generare $\\theta$ con tale distribuzione di probabilità, è possibile usare il teorema della funzione inversa: si calcola la cumulativa di $p(\\theta)$, ossia $F(\\theta) = - \\frac {\\cos (\\theta)} {2} + 0.5$, la si uguaglia a $y$, dove $y$ è un numero casuale uniformemente distribuito tra 0 e 1, e si ricava $\\theta=F^{-1}(y)$. Si ottiene che $\\theta$ è distribuito con distribuzione di probabilità $p(\\theta)=\\frac {\\sin (\\theta)} {2}$ se $\\theta = \\arccos (2y-1)$. Campionando $\\theta$ e $\\phi$ nel modo appena descritto, si possono trovare le coordinate cartesiane a partire dalle coordinate sferiche:\n",
    "- $x=\\sin(\\theta) \\cos (\\phi)$;\n",
    "- $y = \\sin(\\theta) \\sin(\\phi)$;\n",
    "- $z = \\cos(\\theta)$.\n",
    "\n",
    "Generando le coordinate cartesiane col procedimento appena descritto, è stato riempito un vettore xyz2, la cui struttura è analoga al vettore xyz del punto 1) dell'esercizio e col data blocking è stata ricavata la quantità $\\langle |\\vec{r}_N|^2 \\rangle_{RW}$ per ogni step $i$ fino a $i = 100$ e succesivamente la quantità $\\sqrt{\\langle |\\vec{r}_N|^2 \\rangle_{RW}}$. Il grafico di seguito, ottenuto col programma esercizio2.exe, mostra la quantità $\\sqrt{\\langle |\\vec{r}_N|^2 \\rangle_{RW}}$ in funzione di $i$:"
   ]
  },
  {
   "cell_type": "markdown",
   "id": "f1946904",
   "metadata": {},
   "source": [
    "<img src = \"Pictures/continuum.jpg\">"
   ]
  },
  {
   "cell_type": "markdown",
   "id": "b8dcd28e",
   "metadata": {},
   "source": [
    "Per vedere se i risultati ottenuti hanno un comportamento diffusivo, è stato fatto il fit del grafico ottenuto con una funzione del tipo $f(x)=k \\sqrt x$. Il chi quadrato ricavato da tale fit è $\\chi^2=74.9896$. Per 100 gradi di libertà, un chi quadrato minore di 100 indica che i dati ottenuti sono compatibili con la distribuzione ipotizzata, quindi i dati ottenuti con la simulazione Monte Carlo hanno un comportamento diffusivo. Ancora una volta, questo risultato è in accordo con la teoria: infatti, per un random walk in uno spazio continuo in cui ogni direzione è equiprobabile ad ogni salto, è previsto che la distanza media al quadrato percorsa è direttamente proporzionale al numero di step e che quindi $\\sqrt{\\langle |\\vec{r}_N|^2 \\rangle_{RW}}$ è direttamente proporzionale a $\\sqrt i$."
   ]
  }
 ],
 "metadata": {
  "kernelspec": {
   "display_name": "Python 3",
   "language": "python",
   "name": "python3"
  },
  "language_info": {
   "codemirror_mode": {
    "name": "ipython",
    "version": 3
   },
   "file_extension": ".py",
   "mimetype": "text/x-python",
   "name": "python",
   "nbconvert_exporter": "python",
   "pygments_lexer": "ipython3",
   "version": "3.8.8"
  }
 },
 "nbformat": 4,
 "nbformat_minor": 5
}
