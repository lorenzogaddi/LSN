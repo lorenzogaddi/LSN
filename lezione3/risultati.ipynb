{
 "cells": [
  {
   "cell_type": "markdown",
   "id": "bb776085",
   "metadata": {},
   "source": [
    "# RISULTATI ESERCITAZIONE 3\n",
    "\n",
    "Per compilare i programmi scritti in c++, è sufficiente digitare il comando \"make compila\"\n",
    "\n",
    "## Esercizio 1\n",
    "\n",
    "Data un'opzione europea, supponendo che il prezzo del bene abbia un comportamento stocastico ed esibisca un moto Browniano geometrico con volatilità $\\sigma$ e costante tasso d'interesse privo di rischi $r$, l'esercizio richiede di computare al tempo $t=0$ il prezzo $C[S(0),0]$ di un'opzione call e il prezzo $P[S(0),0]$ di un'opzione put attraverso una simulazione Monte Carlo con i seguenti dati:\n",
    "- prezzo del bene a $t=0$: $S(0)=100$;\n",
    "- tempo di consegna: $T=1$;\n",
    "- prezzo d'esercizio: $K=100$;\n",
    "- tasso di interesse privo di rischi: $r=0.1$;\n",
    "- volatilità: $\\sigma = 0.25$.\n",
    "\n",
    "Inoltre, sapendo che, nel caso in cui il prezzo di un bene $S\\sim GBM(r,\\sigma^2)$, si ha che $S(t_{i+1}) = S(t_i) \\exp\\left[ \\left(r-\\frac{1}{2}\\sigma^2\\right)(t_{i+1}-t_i) +\\sigma Z_{i+1}\\sqrt{t_{i+1}-t_i}\\right]$ con $t_{i+1} > t_i$ e $Z_{i+1} \\sim \\mathcal{N}(0,1)$, l'esercizio richiede di campionare $C[S(0),0]$ e $P[S(0),0]$ in due modi diversi:\n",
    "1) campionando direttamente il prezzo finale del bene $S(T)$;\n",
    "\n",
    "2) Campionando il prezzo finale del bene $S(T)$ dividendo l'intervallo $[0,T]$ in 100 e campionando $S(0.01)$, $S(0.02)$,.... fino a $S(T)$ con la formula sopra enunciata per $S(t_{i+1})$.\n",
    "\n",
    "Di seguito sono commentati i risultati ottenuti e il procedimento utilizzato per il punto 1) dell'esercizio. Per campionare direttamente $S(T)$, è stata utilizzata la seguente formula $S(t_{i+1}) = S(t_i) \\exp\\left[ \\left(r-\\frac{1}{2}\\sigma^2\\right)(t_{i+1}-t_i) +\\sigma Z_{i+1}\\sqrt{t_{i+1}-t_i}\\right]$ con $t_{i+1}=T$ e $t_i = 0$. Successivamente, è stato confrontato il valore ottenuto di $S(T)$ con il prezzo d'esercizio $K$: se $S(T)\\geq K$ il compratore esercita il suo diritto per un'opzione call in quanto ricava un profitto $(S(T)-K)^{+}=\\max [0, S(T)-K]$, altrimenti esercita il suo diritto per un'opzione put con profitto $(K-S(T))^{+}=\\max [0, K-S(T)]$. Dopo aver determinato il profitto sia per l'opzione put che per l'opzione call, è stato calcolato il prezzo dell'opzione call al tempo $t=0$ come $C[S(0),0]=\\exp (-rT)(S(T)-K)^{+}$ e dell'opzione put come $P[S(0),0]=\\exp (-rT)(K-S(T))^{+}$. Per ottenere una stima di $C[S(0),0]$ e di $P[S(0),0]$, è stato usato il data blocking con $M=100000$ lanci e $N=100$ blocchi. Il grafico di $C[S(0),0]$ in funzione di $N$ ottenuto col metodo appena spiegato dal programma esercizio1.exe è il seguente:"
   ]
  },
  {
   "cell_type": "markdown",
   "id": "92f17893",
   "metadata": {},
   "source": [
    "<img src = \"Pictures/C.jpg\">"
   ]
  },
  {
   "cell_type": "markdown",
   "id": "d4414353",
   "metadata": {},
   "source": [
    "Dal grafico si può notare che per i blocchi iniziali, il valore di $C[S(0),0]$ ottenuto e la sua incertezza oscillano fortemente e solo dopo un certo numero di blocchi si stabilizzano. Per $N=100$, il valore di $C[S(0),0]$ estrapolato dal grafico è 14.9914 ± 0.0616. Per trovare il valore atteso di $C[S(0),0]$ è possibile utilizzare la soluzione analitica di Black-Scholes: per i dati dell'esercizio, analiticamente si ricava che $C[S(0),0]=14.9758$. Per verificare la compatibilità del prezzo dell'opzione call ottenuto dalla simulazione con il suo valore teorico, è possibile calcolare la $z$ di Gauss utilizzando la seguente formula: $$z= \\frac {|x-\\mu|} {\\sigma},$$ dove $x$ e $\\sigma$ sono il valor medio e l'incertezza della grandezza ottenuta dalla simulazione e $\\mu$ il suo valore atteso. Applicando la formula appena enunciata per calcolare la $z$ di Gauss relativa a $C[S(0),0]$, si ottiene che $z$ è:"
   ]
  },
  {
   "cell_type": "code",
   "execution_count": 1,
   "id": "7f656861",
   "metadata": {},
   "outputs": [
    {
     "name": "stdout",
     "output_type": "stream",
     "text": [
      "0.2532467532467686\n"
     ]
    }
   ],
   "source": [
    "print((14.9914-14.9758) / 0.0616)"
   ]
  },
  {
   "cell_type": "markdown",
   "id": "aeb705e2",
   "metadata": {},
   "source": [
    "La $z$ di Gauss ottenuta è minore di uno, quindi il prezzo dell'opzione call ottenuto dalla simulazione è compatibile con quello previsto dalla soluzione analitica di Black-Scholes. Gli stessi ragionamenti effettuati per $C[S(0),0]$ possono essere fatti anche per $P[S(0),0]$. Il grafico di $P[S(0),0]$ in funzione di $N$ ottenuto col procedimento spiegato all'inizio col programma esercizio1.exe è:"
   ]
  },
  {
   "cell_type": "markdown",
   "id": "d7fe689f",
   "metadata": {},
   "source": [
    "<img src = \"Pictures/P.jpg\">"
   ]
  },
  {
   "cell_type": "markdown",
   "id": "aade52ea",
   "metadata": {},
   "source": [
    "La stima e l'incertezza del prezzo dell'opzione put per i primi $N$ variano fortemente e solo per un numero sufficientemente alto di $N$ si stabilizzano. Per l'ultimo blocco, la stima di $P[S(0), 0]$ ottenuta dalla simulazione è 5.44982 ± 0.02923. La soluzione analitica di Black-Scholes fornisce il valore atteso di $P[S(0), 0]$, pari, per i dati dell'esercizio, a 5.45953. Per verificare la compatibilità tra il valore teorico e quello simulato di $P[S(0), 0]$ è possibile usare la formula già usata in precedenza per ricavare la $z$ di Gauss. Si ottiene che $z$ è:"
   ]
  },
  {
   "cell_type": "code",
   "execution_count": 2,
   "id": "7f85f65b",
   "metadata": {},
   "outputs": [
    {
     "name": "stdout",
     "output_type": "stream",
     "text": [
      "0.3321929524461207\n"
     ]
    }
   ],
   "source": [
    "print((-5.44982+5.45953) / 0.02923)"
   ]
  },
  {
   "cell_type": "markdown",
   "id": "f0abbe50",
   "metadata": {},
   "source": [
    "Poiché la $z$ ottenuta è minore di uno, si può concludere che la stima di $P[S(0), 0]$ ottenuta con la simulazione Monte Carlo è compatibile con il valore teorico dato dalla soluzione analitica di Black-Scholes.\n",
    "\n",
    "Il punto 2) dell'esercizio è stato svolto analogamente al punto 1), eccetto per il metodo di campionamento di $S(T)$: infatti, per campionare $S(T)$ in questo caso è stata usata la formula $S(t_{i+1}) = S(t_i) \\exp\\left[ \\left(r-\\frac{1}{2}\\sigma^2\\right)(t_{i+1}-t_i) +\\sigma Z_{i+1}\\sqrt{t_{i+1}-t_i}\\right]$ suddividendo l'intervallo $[0,T]$ in 100 e campionando di volta in volta $S(t_{i+1})$ con $t_{i+1} = t_i+ \\frac {T} {100}$ fino a raggiungere $S(T)$. Dopo aver campionato $S(T)$ è stato calcolato il prezzo dell'opzione call e put analogamente al punto 1) dell'esercizio ed è stato usato il data blocking con $M=100000$ lanci e $N=100$ blocchi per stimare $C[S(0), 0]$ e $P[S(0), 0]$. Il grafico ottenuto di $C[S(0), 0]$ in funzione di $N$ per il punto 2) dell'esercizio col programma esercizio1.exe è il seguente:"
   ]
  },
  {
   "cell_type": "markdown",
   "id": "973c5067",
   "metadata": {},
   "source": [
    "<img src = \"Pictures/C100.jpg\">"
   ]
  },
  {
   "cell_type": "markdown",
   "id": "32bda174",
   "metadata": {},
   "source": [
    "Il valore medio di $C[S(0), 0]$ e la sua incertezza variano fortemente per i primi valori di $N$ come si può notare dal grafico e solo dopo un numero sufficientemente alto di blocchi si stabilizzano. Per $N=100$, la stima di $C[S(0), 0]$ estrapolata dal grafico è 14.9138 ± 0.0691. Come riportato in precedenza, il valore atteso di $C[S(0), 0]$, dato dalla soluzione analitica di Black-Scholes, è 14.9758. Per verificare se il valore di $C[S(0), 0]$ ottenuto dalla simulazione Monte Carlo è compatibile con il valore atteso appena riportato, si può calcolare la $z$ di Gauss con la formula già usata in precedenza. Si ottiene che $z$ è:"
   ]
  },
  {
   "cell_type": "code",
   "execution_count": 3,
   "id": "5dc8f2ae",
   "metadata": {},
   "outputs": [
    {
     "name": "stdout",
     "output_type": "stream",
     "text": [
      "0.8972503617944919\n"
     ]
    }
   ],
   "source": [
    "print((14.9758-14.9138) / 0.0691)"
   ]
  },
  {
   "cell_type": "markdown",
   "id": "872d29fc",
   "metadata": {},
   "source": [
    "Una $z$ di Gauss minore di uno implica che il valore di $C[S(0), 0]$ ottenuto dalla simulazione Monte Carlo è compatibile con il valore teorico dato dall'equazione di Black-Scholes. L'ultima grandezza da analizzare è $P[S(0), 0]$ per il punto 2) dell'esercizio. Il grafico di seguito mostra il prezzo al tempo $t=0$ dell'opzione put in funzione di $N$ per il punto 2) dell'esercizio ottenuto col programma esercizio1.exe:"
   ]
  },
  {
   "cell_type": "markdown",
   "id": "af274a4a",
   "metadata": {},
   "source": [
    "<img src = \"Pictures/P100.jpg\">"
   ]
  },
  {
   "cell_type": "markdown",
   "id": "38d1ba9b",
   "metadata": {},
   "source": [
    "Qualitativamente, il grafico di $P[S(0), 0]$ ottenuto è analogo a quello di $C[S(0), 0]$: per i primi blocchi si può notare che sia il valore medio che l'errore di $P[S(0), 0]$ variano fortemente e che solo per $N$ abbastanza alti si stabilizzano. Il valore del prezzo dell'opzione put ottenuto dalla simulazione per $N=100$ è 5.44955 ± 0.02977. La soluzione analitica di Black-Scholes, come enunciato in precedenza, prevede, per i dati dell'esercizio, che il prezzo dell'opzione put è 5.45953. Utilizzando la formula già usata in precedenza, si ottiene che la $z$ di Gauss per $P[S(0), 0]$ è:"
   ]
  },
  {
   "cell_type": "code",
   "execution_count": 4,
   "id": "ab9f8fdc",
   "metadata": {},
   "outputs": [
    {
     "name": "stdout",
     "output_type": "stream",
     "text": [
      "0.335236815586149\n"
     ]
    }
   ],
   "source": [
    "print((5.45953-5.44955) / 0.02977)"
   ]
  },
  {
   "cell_type": "markdown",
   "id": "65944819",
   "metadata": {},
   "source": [
    "Il valore di $P[S(0), 0]$ ottenuto con la simulazione Monte Carlo è compatibile con il valore previsto dalla soluzione di Black-Scholes in quanto la $z$ ottenuta è minore di 1.\n",
    "\n",
    "I valori di $C[S(0), 0]$ e $P[S(0), 0]$ ottenuti ai punti 1) e 2) dell'esercizio sono entrambi compatibili con i loro valori teorici. Inoltre, sebbene nei due diversi punti dell'esercizio sia stato campionato $S(T)$ in modo diverso, dai risultati si può notare che l'errore legato alle quantità $C[S(0), 0]$ e $P[S(0), 0]$ è molto simile in entrambi i casi. Infatti, per il prezzo dell'opzione call al punto 1) si è ottenuto che $\\sigma_C=0.0616$, mentre al punto 2) $\\sigma_C=0.0691$, e per il prezzo dell'opzione put al punto 1) $\\sigma_P=0.02923$, mentre al punto 2) $\\sigma_P=0.02977$. Ciò sembra suggerire che l'errore legato a $C[S(0), 0]$ e $P[S(0), 0]$ non dipenda dal campionamento diretto o discreto di $S(T)$ e, quindi, che risulta più efficiente un programma in cui $S(T)$ è campionato direttamente, come al punto 1) dell'esercizio. "
   ]
  }
 ],
 "metadata": {
  "kernelspec": {
   "display_name": "Python 3",
   "language": "python",
   "name": "python3"
  },
  "language_info": {
   "codemirror_mode": {
    "name": "ipython",
    "version": 3
   },
   "file_extension": ".py",
   "mimetype": "text/x-python",
   "name": "python",
   "nbconvert_exporter": "python",
   "pygments_lexer": "ipython3",
   "version": "3.8.8"
  }
 },
 "nbformat": 4,
 "nbformat_minor": 5
}
