{
 "cells": [
  {
   "cell_type": "markdown",
   "id": "2d852a15",
   "metadata": {},
   "source": [
    "# RISULTATI ESERCITAZIONE 4\n",
    "\n",
    "Per compilare i programmi scritti in c++, è sufficiente digitare il comando \"make compila\".\n",
    "\n",
    "\n",
    "## Introduzione\n",
    "\n",
    "Lo scopo di questa esercitazione è simulare un ensamble microcanonico, costituito da $N=108$ particelle, utilizzando l'algoritmo di Verlet. Il potenziale che modellizza l'interazione tra le particelle è quello di Lennard-Jones, ossia: $$V_{LJ} (r) = 4\\epsilon \\left[ \\left( \\frac {\\sigma} {r} \\right)^{12} - \\left(\\frac {\\sigma} {r}\\right)^{6} \\right].$$ Le grandezze da misurare durante la simulazione sono 5:\n",
    "- l'energia totale per particella $E/N$;\n",
    "- l'energia potenziale per particella $U/N$;\n",
    "- l'energia cinetica per particella $K/N$;\n",
    "- la temperatura $T$;\n",
    "- la pressione $P$.\n",
    "\n",
    "L'esercitazione richiede di simulare l'Argon, caratterizzato dalle seguenti grandezze:\n",
    "- $\\sigma = 0.34$ nm;\n",
    "- $\\epsilon/k_B = 120$ K;\n",
    "- $m=39.948$ amu.\n",
    "\n",
    "Inoltre, è richiesto di simulare tre fasi diverse dell'Argon:\n",
    "1. la fase solida: $\\rho^\\star = 1.1$, $T^\\star = 0.8$,$r_c = 2.2$\n",
    "2. la fase liquida: $\\rho^\\star = 0.8$, $T^\\star = 1.1$, $r_c = 2.5$\n",
    "3. la fase gassosa: $\\rho^\\star = 0.05$, $T^\\star = 1.2$, $r_c = 5.0$,\n",
    "\n",
    "dove $\\rho^\\star$ è la densità in unità di Lennard-Jones, $T^\\star$ la temperatura in unità di Lennard-Jones e $r_c$ il raggio di cut-off in unità di Lennard-Jones.\n",
    "\n",
    "## Esercizio 1\n",
    "\n",
    "Prima di iniziare a simulare un ensamble microcanonico, è stato aggiunto il calcolo della pressione al programma MD_MC.cpp. La formula utilizzata per calcolare la pressione è stata ottenuta attraverso il teorema del viriale ed è: $$ P = \\rho k_B T + \\frac{1}{3V} \\left\\langle \\sum_{i=1}^{N-1} \\sum_{j\\,(>i)}^N 48\\epsilon \\left[ \\left(\\frac{\\sigma}{|\\vec{r}_i -\\vec{r}_j|}\\right)^{12} - \\frac{1}{2} \\left(\\frac{\\sigma}{|\\vec{r}_i -\\vec{r}_j|}\\right)^6 \\right] \\right\\rangle.$$ I passaggi effettuati per aggiungere il calcolo della pressione al programma sono i seguenti:\n",
    "1) nella funzione Input alla riga 107 è stata aggiunta una variabile ip=4 e alla riga 108 è stata inizializzata la variabile n_props a 5, ossia il numero di grandezze che il programma deve calcolare;\n",
    "\n",
    "2) nella funzione Measure è stato aggiunto il calcolo della pressione utilizzando la formula enunciata in precedenza ed è stata aggiunta come elemento al vettore walker;\n",
    "\n",
    "3) nella funzione Averages è stato aggiunto il calcolo della stima e dell'errore della pressione per ciascun blocco e sia la stima sia l'errore sono stati salvati in un file chiamato \"output_pres.dat\".\n",
    "\n",
    "Con questi passaggi il calcolo della pressione è stato aggiunto al programma MD_MC.cpp.\n",
    "\n",
    "## Esercizio 2\n",
    "\n",
    "Di seguito sono riportati i grafici di $E/N$, $U/N$, $K/N$, $T$ e $P$ in funzione del numero di blocchi per ciascuna fase dell'Argon. Le grandezze riportate sui grafici sono espresse in unità di Lennard-Jones e per ogni simulazione sono stati fatti $M=40000$ lanci, suddivisi in $N=20$ blocchi. Il programma NVE_NVT.exe produce i dati di ciascuna grandezza e li salva in dei files, mentre il programma esercizio2.exe fa il grafico di tutte le grandezze a partire dai dati salvati in tali files.\n",
    "\n",
    "## Fase solida\n",
    "\n",
    "Affinché la temperatura del sistema dell'Argon si stabilizzi attorno a $T^\\star=1.1$ per la fase solida è necessario impostare una temperatura iniziale più alta. Infatti, la configurazione di partenza del sistema è un cristallo perfetto, quindi il l'energia potenziale del sistema è minimizzata: ciò implica che quando le particelle sono mosse con l'algoritmo di Verlet l'energia potenziale aumenta e, poiché l'energia totale si conserva, l'energia cinetica e, di conseguenza, la temperatura diminuiscono. La temperatura iniziale impostata affinché il sistema si stabilizzi attorno a $T^\\star=1.1$ è $T^\\star=1.543$. Impostando i parametri $\\rho^\\star$ e $r_c$ relativi alla fase solida, è stato eseguito il programma NVE_NVT.exe e sono state ottenute tutte le grandezze desiderate. Poiché il sistema ha bisogno di tempo prima di equilibrarsi in quanto parte da un cristallo perfetto, è stato rieseguito il programma NVE_NVT.exe in modo che partisse dalla configurazione ottenuta in precedenza e solo dopo un certo tempo sono stati accettati i dati per i grafici: in questo modo, il sistema ha avuto tempo di equilibrarsi e il valore medio della temperatura si è stabilizzato attorno al valore desiderato. L'equilibrazione del sistema è stata monitorata col programma esercizio2.exe: quando è stato notato che la temperatura era stabile, i dati sono stati salvati nei rispettivi files e sono stati creati i rispettivi grafici. Di seguito, sono riportati rispettivamente i grafici di $E/N$, $U/N$, $K/N$, $T$ e $P$ in funzione del numero di blocchi per la fase solida:"
   ]
  },
  {
   "cell_type": "markdown",
   "id": "dc60fb08",
   "metadata": {},
   "source": [
    "<img src = \"Pictures/E_S.jpg\">"
   ]
  },
  {
   "cell_type": "markdown",
   "id": "0bb99dc8",
   "metadata": {},
   "source": [
    "<img src = \"Pictures/U_S.jpg\">"
   ]
  },
  {
   "cell_type": "markdown",
   "id": "3c6925d5",
   "metadata": {},
   "source": [
    "<img src = \"Pictures/K_S.jpg\">"
   ]
  },
  {
   "cell_type": "markdown",
   "id": "1c5f9a76",
   "metadata": {},
   "source": [
    "<img src = \"Pictures/T_S.jpg\">"
   ]
  },
  {
   "cell_type": "markdown",
   "id": "08e4ebdc",
   "metadata": {},
   "source": [
    "<img src = \"Pictures/P_S.jpg\">"
   ]
  },
  {
   "cell_type": "markdown",
   "id": "e7a8e37c",
   "metadata": {},
   "source": [
    "Per il grafico di $E/N$ è stato fatto il fit con una funzione costante: infatti, per un ensamble microcanonico l'energia totale del sistema e il numero di particelle sono costanti. Il chi quadrato ottenuto da tale fit vale 6.18747, quindi, poiché il numero di gradi di libertà associati al $\\chi^2$ sono 18, corrispondenti al numero di dati con errore diverso da zero, ossia 19, meno il numero di parametri della funzione usata per il fit, ossia 1, i dati di $E/N$ sono compatibili con una funzione costante. Il valore di $E/N$ ottenuto dal fit e i valori finali ottenuti per l'ultimo blocco delle altre grandezze sono:\n",
    "- $E/N=-5.46109 ± 0.00004$;\n",
    "- $U/N=-6.66095 ± 0.00088$;\n",
    "- $K/N=1.19996 ± 0.00089$;\n",
    "- $T=0.799971 ± 0.000591$;\n",
    "- $P=9.61027 ± 0.00447$.\n",
    "\n",
    "Come si può notare, impostando inizialmente la temperatura a 1.543, il sistema si è stabilizzato attorno ad una temperatura di 0.8, come richiesto dall'esercizio.\n",
    "\n",
    "## Fase liquida\n",
    "\n",
    "Il procedimento per raccogliere i dati per la fase liquida dell'Argon è analogo a quello della fase solida. La temperatura iniziale impostata affinché il sistema si stabilizzi attorno ad una temperatura di $T^\\star=1.1$ è 1.981. È necessario impostare una temperatura iniziale più alta per il motivo già spiegato per la fase solida: la configurazione iniziale è quella di un cristallo perfetto, quindi durante le prime mosse l'energia cinetica e, di conseguenza, la temperatura diminuiscono, rendendo necessario impostare una $T$ iniziale più alta. Dopo aver impostato $\\rho^\\star = 0.8$ e $r_c = 2.5$, sono stati presi i dati in modo analogo a quello utilizzato per la fase solida. Di seguito sono riportati rispettivamente i grafici di $E/N$, $U/N$, $K/N$, $T$ e $P$ in funzione del numero di blocchi per la fase liquida:"
   ]
  },
  {
   "cell_type": "markdown",
   "id": "fd8df303",
   "metadata": {},
   "source": [
    "<img src = \"Pictures/E_L.jpg\">"
   ]
  },
  {
   "cell_type": "markdown",
   "id": "85d00485",
   "metadata": {},
   "source": [
    "<img src = \"Pictures/U_L.jpg\">"
   ]
  },
  {
   "cell_type": "markdown",
   "id": "efcec427",
   "metadata": {},
   "source": [
    "<img src = \"Pictures/K_L.jpg\">"
   ]
  },
  {
   "cell_type": "markdown",
   "id": "ff002f59",
   "metadata": {},
   "source": [
    "<img src = \"Pictures/T_L.jpg\">"
   ]
  },
  {
   "cell_type": "markdown",
   "id": "be9426b4",
   "metadata": {},
   "source": [
    "<img src = \"Pictures/P_L.jpg\">"
   ]
  },
  {
   "cell_type": "markdown",
   "id": "dd96046d",
   "metadata": {},
   "source": [
    "Poiché è stato simulato un ensamble microcanonico, la quantità $E/N$ dovrebbe essere costante in quanto sia l'energia totale del sistema sia il numero di particelle si conservano. Per questo motivo è stato fatto il fit del grafico di $E/N$ con una funzione costante. Il chi quadrato ottenuto è $\\chi^2=8.46922$: per 18 gradi di libertà il valore ottenuto di $\\chi^2$ indica che i dati di $E/N$ sono compatibili con una funzione costante. Il valore ottenuto di $E/N$ dal fit e i valori per l'ultimo blocco delle altre grandezze sono:\n",
    "- $E/N=-3.37615 ± 0.00009$;\n",
    "- $U/N=-5.02169 ± 0.00356$;\n",
    "- $K/N=1.64538 ± 0.00349$;\n",
    "- $T=1.09692 ± 0.00233$;\n",
    "- $P=2.13948 ± 0.02367$.\n",
    "\n",
    "Impostando una temperatura iniziale di 1.981, il sistema si è equilibrato attorno ad una temperatura di 1.1, come richiesto dall'esercizio.\n",
    "\n",
    "## Fase gassosa\n",
    "\n",
    "A differenza degli altri due stati dell'Argon, per la fase gassosa è necessario impostare una temperatura iniziale più bassa affinché il sistema si stabilizzi attorno alla temperatura desiderata, ossia 1.2. Il motivo di ciò è che la densità dello stato gassoso è molto più bassa rispetto a quella degli altri due stati e quindi, poiché il numero di particelle è costante, il volume è molto più grande: durante le prime mosse si ha una diminuizione dell'energia potenziale e, per la conservazione dell'energia del sistema, un aumento dell'energia cinetica e, conseguentemente, della temperatura. La temperatura iniziale impostata affinché quella del sistema si stabilizzi attorno a 1.2 è 0.958. Il modo di raccogliere i dati è stato analogo a quello delle precedenti fasi: dopo aver fatto equilibrare il sistema, sono stati salvati i dati di ciascuna grandezza e sono stati usati per fare i grafici. Di seguito sono riportati rispettivamente i grafici di $E/N$, $U/N$, $K/N$, $T$ e $P$ in funzione del numero di blocchi per la fase gassosa dell'Argon:"
   ]
  },
  {
   "cell_type": "markdown",
   "id": "3a6a5fac",
   "metadata": {},
   "source": [
    "<img src = \"Pictures/E_G.jpg\">"
   ]
  },
  {
   "cell_type": "markdown",
   "id": "de2835cc",
   "metadata": {},
   "source": [
    "<img src = \"Pictures/U_G.jpg\">"
   ]
  },
  {
   "cell_type": "markdown",
   "id": "18ce39cc",
   "metadata": {},
   "source": [
    "<img src = \"Pictures/K_G.jpg\">"
   ]
  },
  {
   "cell_type": "markdown",
   "id": "0f451a72",
   "metadata": {},
   "source": [
    "<img src = \"Pictures/T_G.jpg\">"
   ]
  },
  {
   "cell_type": "markdown",
   "id": "50128b9c",
   "metadata": {},
   "source": [
    "<img src = \"Pictures/P_G.jpg\">"
   ]
  },
  {
   "cell_type": "markdown",
   "id": "ff2d084c",
   "metadata": {},
   "source": [
    "Come fatto anche per le altri fasi dell'Argon, è stato fatto il fit di $E/N$ con una funzione costante per verificarne la conservazione. Il chi quadrato ottenuto è $\\chi^2=1.91263$, perciò i dati di $E/N$ sono compatibili con una funzione costante. L'energia ricavata dal fit e i valori delle altre grandezze per l'ultimo blocco sono:\n",
    "- $E/N=1.40405±0.00001$;\n",
    "- $U/N=-0.391508 ± 0.008122$;\n",
    "- $K/N=1.79556 ± 0.00812$;\n",
    "- $T=1.19704 ± 0.00541$;\n",
    "- $P=0.0496767 ± 0.0004183$.\n",
    "\n",
    "Impostando una temperatura iniziale di 0.958, si può notare che il sistema si è equilibrato attorno ad una temperatura di 1.2, come richiesto dall'esercizio."
   ]
  }
 ],
 "metadata": {
  "kernelspec": {
   "display_name": "Python 3",
   "language": "python",
   "name": "python3"
  },
  "language_info": {
   "codemirror_mode": {
    "name": "ipython",
    "version": 3
   },
   "file_extension": ".py",
   "mimetype": "text/x-python",
   "name": "python",
   "nbconvert_exporter": "python",
   "pygments_lexer": "ipython3",
   "version": "3.8.8"
  }
 },
 "nbformat": 4,
 "nbformat_minor": 5
}
