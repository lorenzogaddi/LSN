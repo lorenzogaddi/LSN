{
 "cells": [
  {
   "cell_type": "markdown",
   "id": "ea64fb60",
   "metadata": {},
   "source": [
    "# RISULTATI ESERCITAZIONE 6\n",
    "\n",
    "Per compilare i programmi scritti in c++, è sufficiente digitare il comando \"make compila\"\n",
    "\n",
    "## Esercizio 1\n",
    "\n",
    "Lo scopo di questo esercizio è simulare un modello di Ising in una dimensione. L'Hamiltoniana che descrive l'interazione tra $N$ spin di tale modello è: $$H = -J\\sum_{i=1}^N s_i s_{i+1} -\\frac{h}{2}\\sum_{i=1}^N (s_i + s_{i+1}),$$ dove $s_i$ è lo spin della i-esima particella che può assumere i valori $\\{-1, +1\\}$, $h$ è il campo magnetico esterno a cui è sottoposto il sistema e $J$ è la costante di accoppiamento tra gli spin delle particelle del sistema. Sapendo ciò, l'esercizio richiede di fare i grafici delle grandezze\n",
    "- $U(N,T) = \\langle H \\rangle_{h=0}$\n",
    "- $C(N,T) = k_B \\beta^2 (\\langle H^2 \\rangle_{h=0}-\\langle H \\rangle_{h=0}^2)$ \n",
    "- $\\chi(N,T) = \\beta \\langle (\\sum_{i=1,N}s_i)^2 \\rangle_{h=0}$\n",
    "- $M(N,T,h=0.02)= \\langle \\sum_{i=1,N}s_i \\rangle_{h=0.02}$,\n",
    "\n",
    "dove $U(N,T)$ è l'energia interna, $C(N,T)$ la capacità termica, $\\chi(N,T)$ la sucettività magnetica e $M(N,T,h=0.02)$ la magnetizzazione, in funzione della temperatura $T$ per $T \\in [0.5,2]$ con due metodi diversi:\n",
    "\n",
    "1) con l'algoritmo di Metropolis;\n",
    "\n",
    "2) con il campionamento di Gibbs.\n",
    "\n",
    "Per risolvere l'esercizio, inizialmente sono stati implementati l'algoritmo di Metropolis e di Gibbs nella funzione \"Move\" del programma Monte_carlo_ISING_1D.cpp nel seguente modo:\n",
    "- per l'algoritmo di Metropolis è stata scelta una probabilità di transizione consistente nel capovolgere lo spin di una particella $k$ scelta casualmente. La mossa è accettata con probabilità 1 se l'energia della nuova configurazione del sistema è minore o uguale di quella della precedente configurazione, mentre, in caso contrario, è stata accettata con probabilità $\\frac {p(\\nu)} {p(\\mu)}$, dove $p(\\nu)$ è il peso statistico di Boltzmann per lo stato finale $\\nu$ del sistema e $p(\\mu)$ per lo stato iniziale $\\mu$ del sistema. È possibile elaborare $\\frac {p(\\nu)} {p(\\mu)}$ per ottenere una forma compatta ed efficace della probabilità d'accettazione: $\\frac {p(\\nu)} {p(\\mu)} =$ $\\exp [{-\\beta (E_{\\nu}-E_{\\mu})}]$ $=\\exp [{-2\\beta (J s_k^{\\mu}(s_{k-1}+s_{k+1}) + h s_k^{\\mu} )}]$. Per un singolo lancio, la mossa di capovolgimento di uno spin è stata ripetuta $N$ volte;\n",
    "- per l'algoritmo di Gibbs si è scelta una particella $k$ casualmente ed è stata valutata la probabilità che tale particella avesse spin up in base allo spin delle particelle adiacenti con la seguente formula, ottenuta a partire dalla probabilità condizionata: $p(s_k^{'}=+1|{s_j : j \\neq k})=\\frac {1} {1+\\exp(-\\beta \\Delta E_{s_k=-1 \\to s_k=+1})}$ $=\\frac {1} {1+\\exp [-2\\beta (J(s_{k-1}+s_{k+1}) +h)]}$. Generando un numero casuale $r$ uniformemente distribuito tra 0 e 1, lo spin della particella $k$ è stato impostato a +1 se è stato ottenuto $r \\leq p(s_k^{'}=+1|{s_j : j \\neq k})$, altrimenti è stato impostato a -1. Anche in questo caso, un singolo lancio consiste nell'applicare l'algoritmo di Gibbs per $N$ volte.\n",
    "\n",
    "Dopo aver implementato l'algoritmo di Metropolis e Gibbs, sono state implementate le formule riportate in precedenza per calcolare $U(N,T)$, $C(N,T)$, $\\chi(N,T)$ e $M(N,T,h=0.02)$ col data blocking con $M=100000$ lanci e $nblk = 20$ blocchi nelle funzioni \"Measure\" e \"Averages\" del programma Monte_carlo_ISING_1D.cpp. Infine, prima di iniziare a prendere i valori di tali grandezze, è stata aggiunta nella funzione \"Input\" l'opzione di cominciare la simulazione a partire da una configurazione ottenuta in precedenza. Per l'esercizio, è stato posto $J=1$ e $N=50$. Il procedimento utilizzato per raccogliere tutti i dati richiesti dall'esercizio si suddivide nelle seguenti fasi:\n",
    "1) è stato impostato $h=0$ e $T=2.0$ ed è stato eseguito il programma Monte_carlo_ISING_1D.exe in modo che utilizzasse l'algoritmo di Metropolis partendo da una configurazione casuale;\n",
    "\n",
    "2) è stato eseguito il programma esercizio1_parte1.exe, il quale produce i grafici di $U(N,T)$, $C(N,T)$, $\\chi(N,T)$ e $M(N,T,h=0.02)$ in funzione del numero di blocchi, e sono stati osservati i grafici ottenuti: se in quest'ultimi è stata notata una variazione significativa di qualche grandezza legata al fatto che il sistema si doveva ancora equilibrare, è stato eseguito il programma Monte_carlo_ISING_1D.exe partendo dalla configurazione finale ottenuta in precedenza fino alla scomparsa di tali variazioni e, dopo questo processo di equilibrazione, sono stati presi i valori finali ottenuti di $U(N,T)$, $C(N,T)$ e $\\chi(N,T)$ e sono stati trasferiti rispettivamente nei files energy_metro.dat, heat_metro.dat e susc_metro.dat;\n",
    "\n",
    "3) è stata decrementata la temperatura di 0.1 ed è stato eseguito il programma Monte_carlo_ISING_1D.exe usando la configurazione di spin finale ottenuta per la precedente temperatura, dopodiché è stato equilibrato il sistema e sono stati presi i valori di $U(N,T)$, $C(N,T)$ e $\\chi(N,T)$ come descritto nella fase 2). Questo step è stato eseguito fino a prendere i dati dell'energia interna, della capacità termica e della suscettività magnetica per $T=0.5$;\n",
    "\n",
    "4) dopo aver finito di prendere i dati di $U(N,T)$, $C(N,T)$ e $\\chi(N,T)$, è stata impostata la temperatura a $T=2.0$ e il campo magnetico esterno a $h=0.02$ e, partendo da una nuova configurazione del sistema, sono stati presi i valori di $M(N,T,h=0.02)$ analogamente a quelli delle altre grandezze e sono stati salvati nel file magn_metro.dat;\n",
    "\n",
    "5) è stato impostato il programma per usare il campionamento di Gibbs e, raccogliendo i dati analogamente al caso di Metropolis, le grandezze $U(N,T)$, $C(N,T)$, $\\chi(N,T)$ e $M(N,T,h=0.02)$ sono state salvate rispettivamente nei files energy_Gibbs.dat, heat_Gibbs.dat, susc_Gibbs.dat e magn_Gibbs.dat.\n",
    "\n",
    "Il programma esercizio1_parte2.exe disegna i grafici della simulazione Monte Carlo di $U(N,T)$, $C(N,T)$, $\\chi(N,T)$ e $M(N,T,h=0.02)$ in funzione della temperatura. Su ciascun grafico sono disegnate due curve, una ottenuta con l'algoritmo di Metropolis e l'altra col campionamento di Gibbs. Il programma esercizio1_parte3.exe fa il fit delle curve di $U(N,T)$, $C(N,T)$, $\\chi(N,T)$ e $M(N,T,h=0.02)$ in funzione di $T$ sia per quelle ottenute con l'algoritmo di Metropolis sia per quelle con Gibbs con le funzioni esatte delle rispettive grandezze ottenute dalla soluzione analitica del modello di Ising 1D. Di seguito sono riportati i risultati ottenuti con i programmi esercizio1_parte2.exe e esercizio1_parte3.exe per ciascuna grandezza.\n",
    "\n",
    "### ENERGIA INTERNA\n",
    "   \n",
    "A scopo illustrativo, affinché si potessero osservare bene entrambe le curve e i loro errori sullo stesso grafico (in caso contrario si sarebbe osservata una sola curva in quanto l'altra sarebbe stata sovrapposta e indistinguibile e gli errori sarebbero stati così piccoli da non essere visualizzabili sul grafico), nel programma esercizio1_parte2.exe gli errori di $\\frac {U} {N} (N,T)$ ottenuti con entrambi i metodi sono stati moltiplicati per 100 e i valori medi di $\\frac {U} {N} (N,T)$ ottenuti con il campionamento di Gibbs sono stati moltiplicati per un fattore 1.05. Questo passaggio è stato eseguito per ogni grandezza e ha uno scopo puramente grafico. Con questa accortezza, il seguente grafico riporta l'energia interna per particella ricavata con l'algoritmo di Metropolis e il campionamento di Gibbs in funzione della temperatura:"
   ]
  },
  {
   "cell_type": "markdown",
   "id": "eae851e0",
   "metadata": {},
   "source": [
    "<img src = \"Pictures/energy.jpg\">"
   ]
  },
  {
   "cell_type": "markdown",
   "id": "50193848",
   "metadata": {},
   "source": [
    "Qualitativamente, si può notare che le curve dell'energia interna per particella ottenute con i due diversi metodi hanno lo stesso andamento. Per verificare che i dati ottenuti dalla simulazione siano in accordo con quelli teorici, è stato fatto il fit di entrambe le curve con la funzione esatta di $\\frac {U} {N} (N,T)$ ottenuta risolvendo analiticamente il modello di Ising 1D. Di seguito è riportato il grafico fittato di $\\frac {U} {N} (N,T)$ in funzione di $T$ ottenuto con l'algoritmo di Metropolis: "
   ]
  },
  {
   "cell_type": "markdown",
   "id": "6286b94c",
   "metadata": {},
   "source": [
    "<img src = \"Pictures/Energy_metropolis.jpg\">"
   ]
  },
  {
   "cell_type": "markdown",
   "id": "1b3ac554",
   "metadata": {},
   "source": [
    "Il chi quadrato ottenuto dal fit è 7.34305. I gradi di libertà legati al $\\chi^2$ in questo caso sono 15 (16 dati dal numero totale di $T$ meno uno poiché la funzione esatta di $U(N,T)$ ha un parametro libero), quindi un chi quadrato minore di 15 indica una buona compatibilità tra i dati della simulazione Monte Carlo e la distribuzione ipotizzata. Il grafico fittato di $\\frac {U} {N} (N,T)$ in funzione della temperatura ottenuto con il campionamento di Gibbs è il seguente:"
   ]
  },
  {
   "cell_type": "markdown",
   "id": "eb69de94",
   "metadata": {},
   "source": [
    "<img src = \"Pictures/Energy_Gibbs.jpg\">"
   ]
  },
  {
   "cell_type": "markdown",
   "id": "401a8d03",
   "metadata": {},
   "source": [
    "Il $\\chi^2$ ottenuto da questo fit vale 6.96307. Analogamente al caso precedente, un chi quadrato minore di 15 per 15 gradi di libertà indica che la curva ottenuta con il campionamento di Gibbs è compatibile con quella data dalla soluzione analitica del modello di Ising 1D.\n",
    "\n",
    "### CAPACITÀ TERMICA\n",
    "\n",
    "Per visualizzare meglio le curve della capacità termica ottenute con Metropolis e Gibbs, nel programma esercizio1_parte2.exe sono state moltiplicate le incertezze ottenute per 10 e i valori medi di $C(N,T)$ ottenuti con Gibbs per 1.05. Il seguente grafico mostra le curve così ottenute con entrambi i metodi:"
   ]
  },
  {
   "cell_type": "markdown",
   "id": "9ba356c0",
   "metadata": {},
   "source": [
    "<img src = \"Pictures/Heat_capacity.jpg\">"
   ]
  },
  {
   "cell_type": "markdown",
   "id": "eee53474",
   "metadata": {},
   "source": [
    "Qualitativamente, le due curve hanno lo stesso andamento. Per verificare la compatibilità di tali curve con il loro andamento teorico, è stato fatto il loro fit con la funzione di $C(N,T)$ ottenuta dalla soluzione analitica del modello di Ising 1D. Di seguito è riportato il fit così ottenuto di $C(N,T)$ per Metropolis:"
   ]
  },
  {
   "cell_type": "markdown",
   "id": "52cb66e6",
   "metadata": {},
   "source": [
    "<img src = \"Pictures/Heat_Metropolis.jpg\">"
   ]
  },
  {
   "cell_type": "markdown",
   "id": "dba04edd",
   "metadata": {},
   "source": [
    "Per Metropolis, il chi quadrato ottenuto dal fit della curva di $C(N,T)$ con la funzione esatta della capacità termica vale 13.1808. Il numero di gradi di libertà legati al $\\chi^2$ nel caso della capacità termica sono 15 (il ragionamento per ottenere i gradi di libertà è analogo a quello fatto per l'energia interna): ciò implica che, per Metropolis, i dati di $C(N,T)$ ottenuti con la simulazione Monte Carlo si dispongono su una curva compatibile con quella ottenuta dalla soluzione esatta del modello di Ising 1D. Di seguito, è riportato il fit di $C(N,T)$ in funzione di $T$ ottenuto con il campionamento di Gibbs con la funzione data dalla soluzione analitica del modello di Ising 1D:"
   ]
  },
  {
   "cell_type": "markdown",
   "id": "d1907f4e",
   "metadata": {},
   "source": [
    "<img src = \"Pictures/Heat_Gibbs.jpg\">"
   ]
  },
  {
   "cell_type": "markdown",
   "id": "df72d2fd",
   "metadata": {},
   "source": [
    "Il $\\chi^2$ ottenuto in questo caso è 12.8142. Per 15 gradi di libertà, il chi quadrato ottenuto implica una buona compatibilità tra la curva di $C(N,T)$ ottenuta con la simulazione Monte Carlo utilizzando il campionamento di Gibbs e quella data dalla soluzione esatta del modello di Ising 1D.\n",
    "\n",
    "### SUSCETTIVITÀ MAGNETICA\n",
    "\n",
    "Un discorso analogo ai precedenti può essere fatto anche per la suscettività magnetica. Per $\\chi(N,T)$, nel programma esercizio1_parte2.exe gli errori ottenuti sono stati moltiplicati per 20 e i valori medi ricavati con Gibbs per 1.15. Il grafico della suscettività magnetica ottenuto così facendo è il seguente:"
   ]
  },
  {
   "cell_type": "markdown",
   "id": "5cdcb499",
   "metadata": {},
   "source": [
    "<img src = \"Pictures/Susceptibility.jpg\">"
   ]
  },
  {
   "cell_type": "markdown",
   "id": "a610f3ef",
   "metadata": {},
   "source": [
    "Qualitativamente, le due curve ottenute hanno lo stesso andamento. Per verificare che siano compatibili con la curva data dalla soluzione analitica del modello di Ising 1D è stato fatto il fit. Di seguito è riportato il fit della curva di $\\chi(N,T)$ ottenuta con l'algoritmo di Metropolis:"
   ]
  },
  {
   "cell_type": "markdown",
   "id": "21aea9fa",
   "metadata": {},
   "source": [
    "<img src = \"Pictures/Susc_Metropolis.jpg\">"
   ]
  },
  {
   "cell_type": "markdown",
   "id": "b4ca3d36",
   "metadata": {},
   "source": [
    "Il $\\chi^2$ ottenuto da questo fit vale 16.2944. Il numero di gradi di libertà legati al chi quadrato è ancora 15. Per verificare la compatibilità della curva di $\\chi(N,T)$ ottenuta con la simulazione Monte Carlo con quella attesa teoricamente, si può calcolare il chi quadrato ridotto con la seguente formula: $$\\chi_{ridotto}^2=\\frac {\\chi^2} {n},$$ dove n è il numero di gradi di libertà. Applicando questa formula al caso in questione si ottiene che il $\\chi_{ridotto}^2$ è:"
   ]
  },
  {
   "cell_type": "code",
   "execution_count": 2,
   "id": "d592dcc2",
   "metadata": {},
   "outputs": [
    {
     "name": "stdout",
     "output_type": "stream",
     "text": [
      "1.0862933333333333\n"
     ]
    }
   ],
   "source": [
    "print((16.2944) / 15)"
   ]
  },
  {
   "cell_type": "markdown",
   "id": "5e6fdf01",
   "metadata": {},
   "source": [
    "Per 15 gradi di libertà, la probabilità di ottenere un chi quadrato maggiore di 1.09 supera il 30%, quindi i dati ottenuti dalla simulazione Monte Carlo con l'algoritmo di Metropolis sono compatibili con la distribuzione corrispondente alla soluzione esatta del modello di Ising 1D. Per quanto riguarda il fit di $\\chi(N,T)$ per Gibbs, il grafico ottenuto è il seguente:"
   ]
  },
  {
   "cell_type": "markdown",
   "id": "1726018d",
   "metadata": {},
   "source": [
    "<img src = \"Pictures/Susc_Gibbs.jpg\">"
   ]
  },
  {
   "cell_type": "markdown",
   "id": "fb1e52a8",
   "metadata": {},
   "source": [
    "In questo caso, il chi quadrato ottenuto vale 8.57243. I gradi di libertà associati a $\\chi^2$ sono 15, quindi la curva dei dati di $\\chi(N,T)$ ottenuti dalla simulazione con il campionamento di Gibbs è compatibile con quella della soluzione analitica del modello di Ising 1D.\n",
    "\n",
    "### MAGNETIZZAZIONE\n",
    "\n",
    "Sempre per visualizzare bene entrambe le curve sullo stesso grafico, nel programma esercizio1_parte2.exe sono stati moltiplicati gli errori di $M(N,T, h=0.02)$ per 10 e i suoi valori medi ottenuti col campionamento di Gibbs per 1.15. Con questa accortezza, il grafico così ottenuto per la magnetizzazione è il seguente:"
   ]
  },
  {
   "cell_type": "markdown",
   "id": "fd9608d1",
   "metadata": {},
   "source": [
    "<img src = \"Pictures/Magnetization.jpg\">"
   ]
  },
  {
   "cell_type": "markdown",
   "id": "1d792fb6",
   "metadata": {},
   "source": [
    "Come per tutte le precedenti grandezze, le due diverse curve ottenute con l'algoritmo di Metropolis e di Gibbs sono qualitativamente uguali. Per vedere se fossero compatibili con la curva teorica ottenuta dalla soluzione analitica del modello di Ising 1D, è stato fatto un fit di entrambe le curve. Di seguito è riportato il fit della curva di $M(N,T,h=0.02)$ ottenuta con l'algoritmo di Metropolis:"
   ]
  },
  {
   "cell_type": "markdown",
   "id": "dd8b5d7a",
   "metadata": {},
   "source": [
    "<img src = \"Pictures/Magn_Metropolis.jpg\">"
   ]
  },
  {
   "cell_type": "markdown",
   "id": "e1d71f61",
   "metadata": {},
   "source": [
    "Il chi quadrato ottenuto per questo fit vale 5.37682. Il fit è stato fatto con una funzione con due parametri, quindi in questo caso i gradi di libertà associati a $\\chi^2$ sono 14. Poiché il $\\chi^2$ ottenuto da questo fit è minore di 14, la curva dei dati della simulazione Monte Carlo ottenuta con Metropolis è compatibile con quella ricavata teoricamente. Per quanto riguarda il fit della magnetizzazione per la curva ottenuta con il campionamento di Gibbs, il fit ricavato è il seguente:"
   ]
  },
  {
   "cell_type": "markdown",
   "id": "091a1215",
   "metadata": {},
   "source": [
    "<img src = \"Pictures/Magn_Gibbs.jpg\">"
   ]
  },
  {
   "cell_type": "markdown",
   "id": "2c5050f9",
   "metadata": {},
   "source": [
    "Il $\\chi^2$ ricavato da questo fit è 15.1929. I gradi di libertà legati al chi quadrato sono 14 in questo caso, quindi si ottiene che il $\\chi_{ridotto}^2$ vale:"
   ]
  },
  {
   "cell_type": "code",
   "execution_count": 3,
   "id": "1a8e1edb",
   "metadata": {},
   "outputs": [
    {
     "name": "stdout",
     "output_type": "stream",
     "text": [
      "1.0852071428571428\n"
     ]
    }
   ],
   "source": [
    "print(15.1929 / 14)"
   ]
  },
  {
   "cell_type": "markdown",
   "id": "990e6738",
   "metadata": {},
   "source": [
    "Per 14 gradi di libertà, la probabilità di avere un chi quadrato ridotto superiore a 1.09 è maggiore del 30%, quindi la curva della magnetizzazione ottenuta dalla simulazione con il campionamento di Gibbs è compatibile con quella ottenuta dalla soluzione analitica del modello di Ising 1D."
   ]
  }
 ],
 "metadata": {
  "kernelspec": {
   "display_name": "Python 3",
   "language": "python",
   "name": "python3"
  },
  "language_info": {
   "codemirror_mode": {
    "name": "ipython",
    "version": 3
   },
   "file_extension": ".py",
   "mimetype": "text/x-python",
   "name": "python",
   "nbconvert_exporter": "python",
   "pygments_lexer": "ipython3",
   "version": "3.8.8"
  }
 },
 "nbformat": 4,
 "nbformat_minor": 5
}
