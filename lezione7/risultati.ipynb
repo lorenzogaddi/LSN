{
 "cells": [
  {
   "cell_type": "markdown",
   "id": "964ed65d",
   "metadata": {},
   "source": [
    "# RISULTATI ESERCITAZIONE 7\n",
    "\n",
    "Per compilare i programmi scritti in c++, è sufficiente digitare il comando \"make compila\"\n",
    "\n",
    "## Introduzione\n",
    "\n",
    "Lo scopo di questa esercitazione è quello di simulare un ensamble canonico, ossia un sistema che conserva il numero di particelle $N$, il volume $V$ e la temperatura $T$. La probabilità che un sistema si trova in una determinata configurazione con energia $E$ è data dal peso di Boltzmann $p(E)= \\frac {e^{-\\beta E}} {Z}$, dove $\\beta=1/(k_b T)$ e $Z$ è la funzione di partizione. Per campionare una nuova configurazione del sistema, è utilizzato l'algoritmo di Metropolis con una probabilità di transizione uniforme con passo $h$ da determinare empiricamente in modo che l'accettazione sia circa pari a $0.5$. Le grandezze da studiare in quest'esercitazione per l'ensamble canonico sono: la pressione $P$, l'energia potenziale per particella $U/N$ e la funzione di distribuzione radiale $g(r)$. Per l'esercitazione, è richiesta la simulazione di $N=108$ particelle di Argon ($\\sigma = 0.34$ nm, $\\epsilon/k_B = 120$ K, $m=39.948$ amu) in 3 diverse fasi termodinamiche:\n",
    "- fase solida: $\\rho^\\star = 1.1$, $T^\\star = 0.8$ (raggio di cut-off: $r_c = 2.2$);\n",
    "- fase liquida: $\\rho^\\star = 0.8$, $T^\\star = 1.1$ (raggio di cut-off: $r_c = 2.5$);\n",
    "- fase gassosa: $\\rho^\\star = 0.05$, $T^\\star = 1.2$ (raggio di cut-off: $r_c = 5.0$).\n",
    "\n",
    "## Esercizio 1\n",
    "\n",
    "Lo scopo di questo esercizio è quello di implementare le correzioni di coda al programma MD_MC.cpp. Le correzioni di coda per l'energia potenziale e la pressione possono essere ricavate tramite la funzione di distribuzione radiale $g(r)$, la quale a grandi distanze $r>r_c$ è circa uguale a 1, attraverso le seguenti formule: $$\\langle V_{LJ} \\rangle_{tail} = 2 \\pi \\rho N \\int_{r_c}^{\\infty} r^2 V_{LJ}(r)g(r) dr ≅ 2 \\pi \\rho N \\int_{r_c}^{\\infty} r^2 V_{LJ}(r) dr = \\frac {8N \\pi \\rho \\epsilon} {9 r^9_c} - \\frac {8N \\pi \\rho \\epsilon} {3 r^3_c}$$ $$\\langle P_{LJ} \\rangle_{tail} = 2 \\pi \\rho N \\int_{r_c}^{\\infty} r^2 P_{LJ}(r)g(r) dr ≅ 2 \\pi \\rho N \\int_{r_c}^{\\infty} r^2 P_{LJ}(r) dr = \\frac {32 \\pi \\rho^2 \\epsilon} {9 r^9_c} - \\frac {16 \\pi \\rho^2 \\epsilon} { 3 r^3_c}.$$ Le modifiche apportate al programma MD_MC.cpp per aggiungere le correzioni di coda sono le seguenti:\n",
    "\n",
    "- nella funzione Input, alle righe 179 e 180, è assegnato il valore alle variabili globali vtail e ptail: vtail è stata uguagliata a $\\langle V_{LJ} \\rangle_{tail}$, mentre ptail a $3V\\langle P_{LJ} \\rangle_{tail}$;\n",
    "\n",
    "- nella funzione Measure, alle righe 353 e 357, sono state aggiunte al calcolo della pressione e dell'energia potenziale le correzioni di coda.\n",
    "\n",
    "Con queste modifiche, sono state implementate le correzioni di coda per $P$ e $U/N$.\n",
    "\n",
    "## Esercizio 2\n",
    "\n",
    "L'esercizio 2 consiste nel produrre $500000$ valori istantanei di $U/N$ per i diversi stati dell'Argon dopo che è stato fatto passare un tempo sufficientemente alto per far equilibrare il sistema: il sistema inizialmente è disposto come un cristallo perfetto, quindi è necessario muovere le particelle con Metropolis prima di iniziare a prendere i dati. Dopo aver acquisito i dati, l'esercizio si suddivide in 2:\n",
    "\n",
    "1) disegnare i grafici dell'autocorrelazione di $U/N$ per ciascuna fase termodinamica e stimare quanto devono essere larghi i blocchi;\n",
    "\n",
    "2) disegnare i grafici dell'incertezza di $U/N$ usando il metodo dei blocchi in funzione della larghezza dei blocchi $L$ per $L \\in [10, 5000]$.\n",
    "\n",
    "Prima di iniziare la raccolta dati, sono stati trovati i valori di $h$ in modo da avere un'acceptance rate del 50% per ciascuno stato termodinamico. Si è ottenuto che l'acceptance rate per la fase solida e liquida è circa 0.5 rispettivamente per $h=0.11$ e $h=0.2$, mentre per la fase gassosa non è stato possibile avere un'acceptance rate del 50%: quest'ultima viene maggiore del 50% ed è minimizzata per $h=l/2=6.4633$ con $l$ lato della scatola per la fase gassosa. Dopo aver impostato l'$h$ corretto per ciascuna fase, è stato equilibrato il sistema e sono stati salvati $500000$ valori istantanei del potenziale per particella per ogni stato in dei files. Dopo aver fatto ciò, sono stati disegnati i grafici dell'autocorrelazione di $U/N$ per ciascun stato come richiesto dal punto 1) dell'esercizio con il programma esercizio2_parte2.exe attraverso i valori di $U/N$ salvati nei files. La formula usata per il calcolo dell'autocorrelazione è la seguente: $$A(t)= \\frac\n",
    "{\\frac {\\sum_{t'=0}^{t_{max}-t} m(t')m(t'+t)} {t_{max}-t} - \\frac {\\sum_{t'=0}^{t_{max}-t} m(t') \\sum_{t'=0}^{t_{max}-t} m(t'+t)} {(t_{max}-t)^2}}\n",
    "{\\frac {\\sum_{t'=0}^{t_{max}} m^2(t')} {t_{max}} - (\\frac {\\sum_{t'=0}^{t_{max}} m(t')}{t_{max}})^2}.\n",
    "$$ Di seguito sono riportati i grafici dell'autocorrelazione per i primi 1000 tempi di ritardo $t$ rispettivamente per lo stato solido, liquido e gassoso:"
   ]
  },
  {
   "cell_type": "markdown",
   "id": "cb0c3450",
   "metadata": {},
   "source": [
    "<img src = \"Pictures/autocorrelazione_S.jpg\">\n",
    "<img src = \"Pictures/autocorrelazione_L.jpg\">\n",
    "<img src = \"Pictures/autocorrelazione_G.jpg\">"
   ]
  },
  {
   "cell_type": "markdown",
   "id": "c83d3283",
   "metadata": {},
   "source": [
    "Come si può notare dai grafici, l'autocorrelazione dei dati corrisponde ad 1 per $t=0$ e con l'aumentare di $t$ diminuisce esponenzialmente, avvicinandosi velocemente a zero. I blocchi devono essere sufficientemente larghi in modo tale che non siano correlati: scegliendo un $L$ abbastanza alto, come per esempio 400, solo le estremità dei blocchi sono correlate e può essere utilizzato il data-blocking. Prima di scegliere un buon valore di $L$, è svolto il punto 2) di questo esercizio. Le seguenti celle prendono i dati di $U/N$ dai files per ciascun stato e disegnano il grafico dell'incertezza calcolata col data-blocking in funzione della larghezza dei blocchi. La prima cella disegna il grafico relativo allo stato solido, la seconda a quello liquido e la terza a quello gassoso."
   ]
  },
  {
   "cell_type": "code",
   "execution_count": 5,
   "id": "8d675361",
   "metadata": {},
   "outputs": [
    {
     "data": {
      "image/png": "[encoded data removed]",
      "text/plain": [
       "<Figure size 432x288 with 1 Axes>"
      ]
     },
     "metadata": {
      "needs_background": "light"
     },
     "output_type": "display_data"
    }
   ],
   "source": [
    "import numpy as np\n",
    "import matplotlib.pyplot as plt\n",
    "\n",
    "# Lettura dei dati dal file\n",
    "data = np.loadtxt('instantaneous_v_S.out')\n",
    "\n",
    "# Numero di dati\n",
    "M = len(data)\n",
    "\n",
    "# Lista dei valori di L da testare\n",
    "L_values = np.arange(10, 5001)\n",
    "\n",
    "# Lista per salvare le incertezze statistiche\n",
    "error_list = []\n",
    "\n",
    "# Calcolo dell'incertezza statistica per diversi valori di L\n",
    "for L in L_values:\n",
    "    N = M // L  # Numero di blocchi\n",
    "    means = np.zeros(N)\n",
    "    \n",
    "    for i in range(N):\n",
    "        means[i] = np.mean(data[i*L:(i+1)*L])\n",
    "        \n",
    "    sigma2 = np.var(means, ddof=1)\n",
    "    error = np.sqrt(sigma2 / N)\n",
    "    error_list.append(error)\n",
    "    \n",
    "# Grafico dell'incertezza in funzione di L\n",
    "plt.plot(L_values, error_list, 'o')\n",
    "plt.xlabel('L')\n",
    "plt.ylabel('Incertezza statistica')\n",
    "plt.show()"
   ]
  },
  {
   "cell_type": "code",
   "execution_count": 6,
   "id": "ddcf8e56",
   "metadata": {},
   "outputs": [
    {
     "data": {
      "image/png": "[encoded data removed]",
      "text/plain": [
       "<Figure size 432x288 with 1 Axes>"
      ]
     },
     "metadata": {
      "needs_background": "light"
     },
     "output_type": "display_data"
    }
   ],
   "source": [
    "# Lettura dei dati dal file\n",
    "data = np.loadtxt('instantaneous_v_L.out')\n",
    "\n",
    "# Numero di dati\n",
    "M = len(data)\n",
    "\n",
    "# Lista dei valori di L da testare\n",
    "L_values = np.arange(10, 5001)\n",
    "\n",
    "# Lista per salvare le incertezze statistiche\n",
    "error_list = []\n",
    "\n",
    "# Calcolo dell'incertezza statistica per diversi valori di L\n",
    "for L in L_values:\n",
    "    N = M // L  # Numero di blocchi\n",
    "    means = np.zeros(N)\n",
    "    \n",
    "    for i in range(N):\n",
    "        means[i] = np.mean(data[i*L:(i+1)*L])\n",
    "        \n",
    "    sigma2 = np.var(means, ddof=1)\n",
    "    error = np.sqrt(sigma2 / N)\n",
    "    error_list.append(error)\n",
    "    \n",
    "# Grafico dell'incertezza in funzione di L\n",
    "plt.plot(L_values, error_list, 'o')\n",
    "plt.xlabel('L')\n",
    "plt.ylabel('Incertezza statistica')\n",
    "plt.show()"
   ]
  },
  {
   "cell_type": "code",
   "execution_count": 8,
   "id": "758922d2",
   "metadata": {},
   "outputs": [
    {
     "data": {
      "image/png": "[encoded data removed]",
      "text/plain": [
       "<Figure size 432x288 with 1 Axes>"
      ]
     },
     "metadata": {
      "needs_background": "light"
     },
     "output_type": "display_data"
    }
   ],
   "source": [
    "# Lettura dei dati dal file\n",
    "data = np.loadtxt('instantaneous_v_G.out')\n",
    "\n",
    "# Numero di dati\n",
    "M = len(data)\n",
    "\n",
    "# Lista dei valori di L da testare\n",
    "L_values = np.arange(10, 5001)\n",
    "\n",
    "# Lista per salvare le incertezze statistiche\n",
    "error_list = []\n",
    "\n",
    "# Calcolo dell'incertezza statistica per diversi valori di L\n",
    "for L in L_values:\n",
    "    N = M // L  # Numero di blocchi\n",
    "    means = np.zeros(N)\n",
    "    \n",
    "    for i in range(N):\n",
    "        means[i] = np.mean(data[i*L:(i+1)*L])\n",
    "        \n",
    "    sigma2 = np.var(means, ddof=1)\n",
    "    error = np.sqrt(sigma2 / N)\n",
    "    error_list.append(error)\n",
    "    \n",
    "# Grafico dell'incertezza in funzione di L\n",
    "plt.plot(L_values, error_list, 'o')\n",
    "plt.xlabel('L')\n",
    "plt.ylabel('Incertezza statistica')\n",
    "plt.show()"
   ]
  },
  {
   "cell_type": "markdown",
   "id": "8bc0cd05",
   "metadata": {},
   "source": [
    "Come si può notare dai grafici riportati dalle celle, per i valori iniziali di $L$ l'incertezza legata al data blocking aumenta fino a convergere per $L$ abbastanza alti. Per elaborare i dati, è necessario scegliere un $L$ abbastanza alto in modo da avere un errore corretto per le grandezze calcolate. Una buona larghezza dei blocchi è $L=2000$: per questo valore di $L$ l'incertezza calcolata col data-blocking converge per ciascuno stato e i blocchi non sono correlati, come è possibile capire osservando i grafici dell'autocorrelazione.\n",
    "\n",
    "## Esercizio 3\n",
    "\n",
    "L'esercizio 3 richiede l'implementazione del calcolo di $g(r)$ per $r \\in [0, L/2]$ con $L$ lato della scatola nel programma MD_MC.cpp. Per il calcolo della funzione di distribuzione radiale, è stata utilizzata la seguente formula: $$g(r)=\\frac {1} {\\rho N \\Delta V(r)} \\langle \\sum \\sum_{i \\neq j = 1}^{N} \\delta [|\\vec r| - |(\\vec r_i - \\vec r_j)|] \\rangle,$$ con $\\Delta V (r)= \\frac {4 \\pi} {3} [(r+dr)^3-r^3]$. Per il calcolo di $g(r)$ è stato scelto $dr=L/200$, quindi è stato suddiviso l'intervallo $[0, L/2]$ in 100 parti. Per calcolare $g(r)$ è possibile creare e riempire un vettore $gdir$ i cui elementi sono in corrispondenza con un intervallo di $r$: l'i-esimo elemento del vettore corrisponde all'intervallo di posizioni $r \\in [i*dr, (i+1)*dr]$ e viene incrementato di 2 ogni volta che è calcolato un $r$ che appartiene a questo intervallo. Le modifiche apportate al programma MD_MC.cpp per calcolare $g(r)$ in questo modo sono le seguenti:\n",
    "\n",
    "- nella funzione Measure alle righe 335-337 è riempito il vettore $gdir$ come spiegato in precedenza con l'aggiunta di dividere ogni 2 aggiunto per $[(r+dr)^3-r^3]$;\n",
    "\n",
    "- nella funzione Reset alle righe 373-376 e 383-385 sono resettati i vettori che contengono le stime di $g(r)$;\n",
    "\n",
    "- nella funzione Accumulate alle righe 399-403 sono accumulati i valori di $g(r)$;\n",
    "\n",
    "- nella funzione Averages sono calcolati i valori e gli errori di $g(r)$ con la formula riportata precedentemente tramite il data-blocking e per l'ultimo blocco sono salvati in un file $r$, il valore medio e l'incertezza di $g(r)$.\n",
    "\n",
    "Con questi passaggi, è possibile calcolare la funzione di distribuzione radiale per ogni stato dell'Argon.\n",
    "\n",
    "## Esercizio 4\n",
    "\n",
    "L'esercizio 4 richiede di simulare un sistema NVT e disegnare i grafici di $U/N$ e $P$ in funzione del numero di blocchi e il grafico di $g(r)$ per le diverse fasi dell'Argon. Inoltre, richiede di comparare i grafici ottenuti di $g(r)$ con quelli ottenuti tramite una simulazione di dinamica molecolare in condizioni termodinamiche simili. Per l'esercizio è stato scelto un numero di blocchi pari a $20$, ognuno contenente $2000$ dati. Prima di prendere i dati, è stato equilibrato il sistema facendolo muovere con Metropolis un numero sufficientemente alto di volte.\n",
    "\n",
    "## Pressione\n",
    "\n",
    "L'esercizio richiede di mostrare la pressione in unità SI: per convertire la pressione da unità di Lennard-Jones a unità SI basta moltiplicarla per $\\epsilon/\\sigma^3$. I grafici della pressione in funzione del numero di blocchi ottenuti col programma esercizio4_parte2.exe sono riportati di seguito rispettivamente per fase solida, liquida e gassosa:"
   ]
  },
  {
   "cell_type": "markdown",
   "id": "bfa6fb04",
   "metadata": {},
   "source": [
    "<img src = \"Pictures/P_S.jpg\">\n",
    "<img src = \"Pictures/P_L.jpg\">\n",
    "<img src = \"Pictures/P_G.jpg\">"
   ]
  },
  {
   "cell_type": "markdown",
   "id": "607b8ed2",
   "metadata": {},
   "source": [
    "Per l'ultimo blocco, sono stati ottenuti i seguenti risultati:\n",
    "- per la fase solida: $P=(3.19722*10^8 ± 3.08*10^5) Pa$;\n",
    "- per la fase liquida: $P=(5.9052*10^7 ± 3.63*10^5) Pa$;\n",
    "- per la fase gassosa: $P=(2.06761*10^6 ± 2.48*10^3) Pa$.\n",
    "\n",
    "## Energia potenziale per particella\n",
    "\n",
    "Per convertire l'energia potenziale per particella in unità SI, $U/N$ è stata moltiplicata per $\\epsilon$. Di seguito sono riportati i grafici di $U/N$ in funzione del numero di blocchi ottenuti col programma esercizio4_parte2.exe rispettivamente per fase solida, liquida e gassosa:"
   ]
  },
  {
   "cell_type": "markdown",
   "id": "6b22a05b",
   "metadata": {},
   "source": [
    "<img src = \"Pictures/U_S.jpg\">\n",
    "<img src = \"Pictures/U_L.jpg\">\n",
    "<img src = \"Pictures/U_G.jpg\">"
   ]
  },
  {
   "cell_type": "markdown",
   "id": "4c0fb3c3",
   "metadata": {},
   "source": [
    "Per l'ultimo blocco sono stati ottenuti i seguenti risultati:\n",
    "- stato solido: $U/N=(-1.25057*10^{-20} ± 2.3*10^{-24}) J$;\n",
    "- stato liquido: $U/N=(-9.05383*10^{-21} ± 2.96*10^{-24}) J$;\n",
    "- stato gassoso: $U/N=(-6.86978*10^{-22} ± 1.082*10^{-24}) J$.\n",
    "\n",
    "Dai risultati appena riportati è possibile notare che lo stato gassoso assume il valore minimo di $|U/N|$ tra i tre stati: questo risultato è sensato dal momento che per lo stato gassoso le particelle sono meno legate in confronto allo stato liquido e solido. Inoltre, per lo stato liquido è stato ottenuto un valore di $|U/N|$ minore rispetto allo stato solido: le particelle per lo stato solido sono più legate rispetto a quelle che si trovano nella fase liquida.\n",
    "\n",
    "## Funzione di distribuzione radiale\n",
    "\n",
    "Per l'ultimo blocco, i grafici di $g(r)$ ottenuti col programma esercizio4_parte2.exe per la fase solida rispettivamente per il sistema NVT e NVE sono i seguenti:"
   ]
  },
  {
   "cell_type": "markdown",
   "id": "ce3f3653",
   "metadata": {},
   "source": [
    "<img src = \"Pictures/g_NVT_S2.jpg\">\n",
    "<img src = \"Pictures/g_NVE_S2.jpg\">"
   ]
  },
  {
   "cell_type": "markdown",
   "id": "1ff55dc9",
   "metadata": {},
   "source": [
    "Qualitativamente, i due grafici hanno lo stesso andamento. Si può osservare che per piccoli $r$, la funzione di distribuzione radiale vale 0: il sistema è tale per cui le sue particelle non si dispongono mai troppo vicine in quanto il potenziale di Lennard-Jones assume grandi valori per piccoli $r$. Si può notare che per grandi $r$ la funzione di distribuzione radiale si avvicina a 1, come atteso dalla teoria. Per comparare i due grafici e vedere se sono compatibili tra di loro, è stato calcolato il chi-quadro per vedere se la funzione $(g_{NVT}(r) - g_{NVE}(r))$ è compatibile con la funzione $f(r)=0$. Il valore ottenuto di $\\chi^2$ è $115.80$: per 99 gradi di libertà, ciò significa che la funzione $(g_{NVT}(r) - g_{NVE}(r))$ è compatibile con la funzione $f(r)=0$.\n",
    "\n",
    "Per quanto riguarda la fase liquida dell'Argon, i grafici di $g(r)$ ottenuti rispettivamente per il sistema NVT e NVE sono i seguenti:"
   ]
  },
  {
   "cell_type": "markdown",
   "id": "bcca0987",
   "metadata": {},
   "source": [
    "<img src = \"Pictures/g_NVT_L.jpg\">\n",
    "<img src = \"Pictures/g_NVE_L.jpg\">"
   ]
  },
  {
   "cell_type": "markdown",
   "id": "bca63328",
   "metadata": {},
   "source": [
    "Delle osservazioni analoghe a quelle fatte per la fase solida, posso essere fatte per lo stato liquido: i due grafici hanno lo stesso andamento qualitativamente, per piccoli $r$ la funzione di distribuzione radiale vale 0 e per alti $r$ vale circa 1. Comparando $(g_{NVT}(r) - g_{NVE}(r))$ con $f(r)=0$ si ottiene che $\\chi^2=81.75$: anche per la fase liquida, $g_{NVT}(r)$ è compatibile con $g_{NVE}(r)$.\n",
    "\n",
    "Per la fase gassosa, i grafici di $g(r)$ rispettivamente per i sistemi NVT e NVE sono riportati di seguito:"
   ]
  },
  {
   "cell_type": "markdown",
   "id": "1bb5d488",
   "metadata": {},
   "source": [
    "<img src = \"Pictures/g_NVT_G.jpg\">\n",
    "<img src = \"Pictures/g_NVE_G.jpg\">"
   ]
  },
  {
   "cell_type": "markdown",
   "id": "6fd816f8",
   "metadata": {},
   "source": [
    "Anche per i grafici di $g(r)$ relativi allo stato gassoso valgono le osservazioni fatte per le altre fasi termodinamiche dell'Argon: i grafici sono qualitativamente uguali, per piccoli $r$ vale che $g(r)=0$ e per grandi $r$ si ha che $g(r) \\approx 1$. Comparando $g_{NVT}(r)-g_{NVE}(r)$ con la funzione $f(r)=0$ si ottiene che $\\chi^2=116.20$: anche in questo caso la funzione $g_{NVT}(r)$ risulta essere compatibile con $g_{NVE}(r)$.\n",
    "\n",
    "Dai risultati ottenuti, è stato mostrato che la teoria della fisica statistica funziona correttamente per la descrizione di ensamble canonici e microcanonici."
   ]
  }
 ],
 "metadata": {
  "kernelspec": {
   "display_name": "Python 3",
   "language": "python",
   "name": "python3"
  },
  "language_info": {
   "codemirror_mode": {
    "name": "ipython",
    "version": 3
   },
   "file_extension": ".py",
   "mimetype": "text/x-python",
   "name": "python",
   "nbconvert_exporter": "python",
   "pygments_lexer": "ipython3",
   "version": "3.8.8"
  }
 },
 "nbformat": 4,
 "nbformat_minor": 5
}
