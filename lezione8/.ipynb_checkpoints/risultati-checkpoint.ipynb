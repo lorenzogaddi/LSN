{
 "cells": [
  {
   "cell_type": "markdown",
   "id": "0b5260fa",
   "metadata": {},
   "source": [
    "# RISULTATI ESERCITAZIONE 8\n",
    "\n",
    "Per compilare i programmi scritti in c++, è sufficiente digitare il comando \"make compila\"\n",
    "\n",
    "## Introduzione\n",
    "\n",
    "I problemi di ottimizzazione sono problemi consistenti nel minimizzare o massimizzare una determinata quantità. Per formalizzare un problema di ottimizzazione, si può introdurre una o più funzioni costo da minimizzare $L(\\vec x)$ soggette a dei vincoli. Esistono diversi modi per risolvere problemi di ottimizzazione tramite algoritmi: per l'esercitazione, il metodo utilizzato è il simulated annealing (SA). Il simulated annealing consiste nel convertire il problema di ottimizzazione in un problema di meccanica statistica: la funzione costo è interpretata come energia di un sistema di fisica statistica e la probabilità che il sistema si trovi in tale configurazione è data dal peso di Boltzmann $p(\\vec x)= \\frac {e^{-\\beta L(\\vec x)}} {Z}$. Il peso di Boltzmann per il simulated annealing può essere campionato tramite l'algoritmo di Metropolis nel seguente modo: si inizializza il sistema in un certo stato iniziale $\\vec x_0$, poi si campiona $x'$ con una probabilità di transizione uniforme e si accetta la nuova configurazione con probabilità $e^{- \\beta (L(\\vec x')-L(\\vec x_0))}$. Il SA consiste nel campionare nuove configurazioni del sistema facendo variare nel tempo $\\beta$ con schema $\\{ (\\beta_1, n_1),......,(\\beta_N, n_N) \\}$, dove $n_i$ rappresenta il numero di steps eseguiti quando $\\beta = \\beta _i$.\n",
    "\n",
    "L'esercitazione consiste nel risolvere un problema di ottimizzazione attraverso il simulated annealing. Il problema di ottimizzazione consiste nel trovare l'energia del ground state per una particella 1D sottoposta al potenziale $$V(x) = x^4 - \\frac{5}{2}x^2$$ utilizzando il principio variazionale $$\\langle {\\hat H} \\rangle_T = \\frac{\\int dx \\Psi^*_T(x) {\\hat H}\\Psi_T(x)}{\\int dx |\\Psi_T(x)|^2} \\ge E_0 =\\frac{\\langle \\Psi_0| {\\hat H} | \\Psi_0 \\rangle}{\\langle \\Psi_0 | \\Psi_0 \\rangle}$$ con $$\\Psi_T^{\\sigma,\\mu}(x) \\propto e^{-\\frac{(x-\\mu)^2}{2\\sigma^2}}+ e^{-\\frac{(x+\\mu)^2}{2\\sigma^2}},$$ dove $\\mu$ e $\\sigma$ sono i parametri da ottimizzare. Per questo problema di ottimizzazione, la funzione costo $L$ corrisponde a $\\langle {\\hat H} \\rangle_T=E_T$ e dipende dai parametri di ottimizzazione $\\mu$ e $\\sigma$. \n",
    "\n",
    "## Esercizio 1\n",
    "\n",
    "L'esercizio 1 richiede di implementare il calcolo di $E_T$ per un qualsiasi valore di $\\mu$ e $\\sigma$, utilizzando la seguente formula: $$\\langle {\\hat H} \\rangle_T = \\int dx \\frac{|\\Psi_T(x)|^2}{\\int dx |\\Psi_T(x)|^2} \\frac{{\\hat H} \\Psi_T(x)}{\\Psi_T(x)}.$$ L'integrale può essere calcolato campionando $x$ secondo la distribuzione di probabilità $p(x)= \\frac {|\\Psi_T(x)|^2}{\\int dx |\\Psi_T(x)|^2}$ con l'algoritmo di Metropolis utilizzando una probabilità di transizione uniforme e utilizzando il metodo dei blocchi per calcolare la stima e l'errore di $\\frac{{\\hat H} \\Psi_T(x)}{\\Psi_T(x)}$, che, per x distribuito come $p(x)$, corrispondono alla stima e all'errore di $E_T$.\n",
    "\n",
    "Questo esercizio è stato risolto definendo le seguenti funzioni nel file di intestazione esercizio2.h:\n",
    "\n",
    "- input: questa funzione inizializza il generatore di numeri casuali e prende dal file input.dat i valori iniziali di $x$, $\\mu$ e $\\sigma$, impostati rispettivamente a 0, 1 e 1, il numero di steps e di blocchi per il metodo dei blocchi, impostati rispettivamente a 1000 e 100, e il valore di $h$, ossia del salto, per l'algoritmo di Metropolis sia per il calcolo di $E_T$ sia per il simulated annealing;\n",
    "\n",
    "- psi: questa funzione prende in input un double $x$ e restituisce $\\Psi_T^{\\sigma,\\mu}(x)$;\n",
    "\n",
    "- Move: questa funzione campiona la distribuzione di probabilità $p(x)=\\frac {|\\Psi_T(x)|^2}{\\int dx |\\Psi_T(x)|^2}$ con Metropolis. Per campionare un $x'$ nuovo a partire dal precedente $x$ è stato generato un numero casuale $r \\in [-0.5,0.5]$ ed è stato calcolato $x'=x + hr$, dopodiché è stato accettato $x'$ con probabilità $\\frac {|\\Psi_T(x')|^2}{|\\Psi_T(x)|^2}$. Il valore di $h$ è impostato in modo che il rate d'accettazione sia circa pari al 50%: ciò risulta vero per $h=5.40$;\n",
    "\n",
    "- equilibrazione: questa funzione chiama 1000 volte la funzione Move. Questa funzione ha lo scopo di scartare i primi 1000 valori di $x$ campionati per il calcolo di $E_T$ dal momento che la $x$ iniziale scelta potrebbe corrispondere ad un valore basso di $p(x)$: in questo modo, si evita di ottenere valori iniziali di $x$ poco probabili;\n",
    "\n",
    "- V: questa funzione restituisce il valore del potenziale valutato in $x$;\n",
    "\n",
    "- E_loc: questa funzione restituisce il valore di $\\frac{{\\hat H} \\Psi_T(x)}{\\Psi_T(x)}$ valutato in $x$. Per calcolare tale quantità è stata calcolata la quantità $\\hat H \\Psi_T(x)$ utilizzando il fatto che $\\hat H = \\hat T + \\hat V$ con $\\hat T= -\\frac {\\partial^2} {2 \\partial x^2}$ (è stato posto $m=1$ e $\\hbar = 1$);\n",
    "\n",
    "- Energia: questa funzione restituisce la stima e l'errore di $E_T$ per determinati $\\sigma$ e $\\mu$ utilizzando le funzioni precedenti e salva il valore più basso trovato di $E_T$. Per il metodo dei blocchi, sono stati usati 100 blocchi, ciascuno costituito da 1000 lanci.\n",
    "\n",
    "Con queste funzioni è possibile calcolare $E_T$ come richiesto dall'esercizio.\n",
    "\n",
    "## Esercizio 2\n",
    "\n",
    "L'esercizio 2 richiede l'utilizzo della parte di codice dell'esercizio 1 per implementare l'algoritmo di simulated annealing e disegnare il grafico di $E_T$ in funzione degli steps del SA, il grafico di $E_T$ in funzione del numero di blocchi per la miglior stima di $\\mu$ e $\\sigma$ e un'istogramma che mostra il campionamento di $|\\Psi_T(x)|^2$.\n",
    "\n",
    "Il primo passo svolto per risolvere l'esercizio è stata l'implementazione della funzione Move2 nel file di intestazione esercizio2.h: questa funzione svolge uno step del simulated annealing. Per svolgere uno step del SA, sono generati nuovi valori di $\\mu$ e $\\sigma$ generando due numeri $r$ e $s$ uniformemente distribuiti tra -0.05 e 0.05 con le formule $\\mu = \\mu_0 + hr$ e $\\sigma = \\sigma_0 + hs$, dove questo $h$ è stato impostato a $0.4$, dopodiché è stata calcolata la nuova energia $E$ relativa ai nuovi valori di $\\mu$ e $\\sigma$ e sono stati accettati i nuovi parametri con probabilità $e^{- \\beta (E-E_0)}$. Il simulated annealing e il grafico di $E_T$ in funzione degli steps SA è svolto dal programma esercizio2_parte1.exe. Lo schema delle temperature, ossia degli inversi di $\\beta$, utilizzato per il SA, è il seguente: $$\\{ (0.05-(1*0.0049), 20), (0.05-(2*0.0049), 20),....., (0.05-(9*0.0049), 20) \\}.$$ Il grafico ottenuto di $\\langle {\\hat H} \\rangle_T$ in funzione degli steps SA è il seguente:"
   ]
  },
  {
   "cell_type": "markdown",
   "id": "ecfd0125",
   "metadata": {},
   "source": [
    "<img src = \"Pictures/SA.jpg\">"
   ]
  },
  {
   "cell_type": "markdown",
   "id": "ef80c1eb",
   "metadata": {},
   "source": [
    "Come si può notare dal grafico, la stima dell'energia $\\langle {\\hat H} \\rangle_T$ si abbassa col passare degli steps SA e le stime migliori di $E_T$ si hanno per le basse temperature. Ciò indica il corretto funzionamento dell'algoritmo in quanto la funzione costo, coincidente con $\\langle {\\hat H} \\rangle_T$, viene minimizzata. Il miglior valore col relativo errore ottenuto di $E_T$ con l'algoritmo è $-0.445452±0.002305$ e i valori di $\\mu$ e $\\sigma$ relativi a tale stima di $E_T$ sono rispettivamente $0.789132$ e $0.600949$. Il valore teorico dell'energia del ground state è $E_0=-0.460466$. Se si calcola la $z$ di gauss con la formula $z= \\frac {|E_T-E_0|} {\\sigma},$ dove $\\sigma$ indica la deviazione standard della media di $E_T$, si ottiene che z vale"
   ]
  },
  {
   "cell_type": "code",
   "execution_count": 1,
   "id": "4dc7b6f8",
   "metadata": {},
   "outputs": [
    {
     "name": "stdout",
     "output_type": "stream",
     "text": [
      "6.513665943600855\n"
     ]
    }
   ],
   "source": [
    "print((-0.445452+0.460466)/0.002305)"
   ]
  },
  {
   "cell_type": "markdown",
   "id": "38213e62",
   "metadata": {},
   "source": [
    "Un valore di $z$ pari a 6.51 indica che il valore trovato di $E_T$ non è compatibile con quello teorico: questo è dovuto al fatto che la funzione d'onda $\\psi_T(x)$ utilizzata per calcolare $E_T$ non corrisponde alla vera funzione d'onda del ground state, ma solo ad una sua approssimazione. Per trovare una stima migliore di $E_T$ e compatibile con $E_0$ è necessario aggiungere ulteriori parametri a $\\psi_T(x)$ in modo da poter approssimarla meglio alla vera funzione d'onda del ground state.\n",
    "\n",
    "Gli altri due grafici richiesti dall'esercizio 2 sono disegnati col programma esercizio2_parte2.exe, il quale sfrutta i risultati e lo stesso codice del programma esercizio2_parte1.exe. Per $\\mu=0.789132$ e $\\sigma=0.600949$, il grafico di $\\langle {\\hat H} \\rangle_T$ in funzione del numero di blocchi $N$ ottenuto è il seguente:"
   ]
  },
  {
   "cell_type": "markdown",
   "id": "89c189ad",
   "metadata": {},
   "source": [
    "<img src = \"Pictures/best_energy.jpg\">"
   ]
  },
  {
   "cell_type": "markdown",
   "id": "c5cdd3f6",
   "metadata": {},
   "source": [
    "Come si può notare dal grafico, per i blocchi iniziali la stima di $E_T$ oscilla e solo dopo un determinato numero di blocchi si stabilizza. Per l'ultimo blocco, si ha che $E_T=-0.441104 ± 0.003090$. Il valore di $E_T$ stimato è diverso dal valore enunciato precedentemente: ciò è legato al fatto che sono stati generati numeri casuali diversi per il calcolo di $E_T$. Naturalmente, le diverse stime di $E_T$, fissati $\\sigma$ e $\\mu$, sono compatibili tra di loro: infatti, la nuova stima di $E_T$ dista da quella vecchia meno di due deviazioni standard della stima nuova. Per quanto riguarda l'istogramma riempito con le $x$ campionate secondo $|\\Psi_T(x)|^2$, l'istogramma ottenuto è il seguente:"
   ]
  },
  {
   "cell_type": "markdown",
   "id": "3b667e7e",
   "metadata": {},
   "source": [
    "<img src = \"Pictures/distribution.jpg\">"
   ]
  },
  {
   "cell_type": "markdown",
   "id": "2e8bb119",
   "metadata": {},
   "source": [
    "Si può confrontare l'istogramma ottenuto con la curva analitica di $|\\Psi_T(x)|^2$, riportata nella seguente cella:"
   ]
  },
  {
   "cell_type": "code",
   "execution_count": 2,
   "id": "ea197e82",
   "metadata": {},
   "outputs": [
    {
     "data": {
      "image/png": "[encoded data removed]",
      "text/plain": [
       "<Figure size 576x360 with 1 Axes>"
      ]
     },
     "metadata": {
      "needs_background": "light"
     },
     "output_type": "display_data"
    }
   ],
   "source": [
    "import numpy as np\n",
    "import matplotlib.pyplot as plt\n",
    "\n",
    "def Vpot(x):\n",
    "    return (x**2 - 2.5)*x**2\n",
    "    #return 0.5*x**2\n",
    "\n",
    "hbar = 1\n",
    "m = 1\n",
    "a = 10\n",
    "N = 1000 # number of iterations\n",
    "\n",
    "# Step sizes\n",
    "x = np.linspace(-a/2, a/2, N)\n",
    "dx = x[1] - x[0] # the step size\n",
    "V = Vpot(x)\n",
    "\n",
    "# The central differences method: f\" = (f_1 - 2*f_0 + f_-1)/dx^2\n",
    "\n",
    "CDiff = np.diag(np.ones(N-1),-1)-2*np.diag(np.ones(N),0)+np.diag(np.ones(N-1),1)\n",
    "# np.diag(np.array,k) construct a \"diagonal\" matrix using the np.array\n",
    "# The default is k=0. Use k>0 for diagonals above the main diagonal, \n",
    "# and k<0 for diagonals below the main diagonal\n",
    "\n",
    "# Hamiltonian matrix\n",
    "H = (-(hbar**2)*CDiff)/(2*m*dx**2) + np.diag(V)\n",
    "\n",
    "# Compute eigenvectors and their eigenvalues\n",
    "E,psi = np.linalg.eigh(H)\n",
    "\n",
    "# Take the transpose & normalize\n",
    "psi = np.transpose(psi)\n",
    "psi = psi/np.sqrt(dx)\n",
    "\n",
    "# Plot a few things\n",
    "plt.figure(figsize=(8,5))\n",
    "scale = 0.3\n",
    "plt.plot(x,(psi[0])**2)\n",
    "plt.title(\"psi squared module\")\n",
    "plt.xlabel(\"x\")\n",
    "plt.grid(True)\n",
    "plt.xlim((-3,3))\n",
    "plt.ylim((-0.6,0.6))\n",
    "plt.show()"
   ]
  },
  {
   "cell_type": "markdown",
   "id": "625910bd",
   "metadata": {},
   "source": [
    "Come si può notare, i due grafici hanno un andamento simile, tuttavia non sono uguali. Ciò causa la discrepanza tra il valore teorico di $E_T$ e quello ottenuto dai programmi. Per migliorare la stima di $\\langle \\hat H \\rangle_T$ bisognerebbe aggiungere dei parametri a $\\Psi_T^{\\sigma,\\mu}(x)$ in modo che la nuova funzione d'onda possa essere fittata in modo migliore con la forma analitica di $|\\psi_T(x)|^2$ riportata nella cella precedente."
   ]
  }
 ],
 "metadata": {
  "kernelspec": {
   "display_name": "Python 3",
   "language": "python",
   "name": "python3"
  },
  "language_info": {
   "codemirror_mode": {
    "name": "ipython",
    "version": 3
   },
   "file_extension": ".py",
   "mimetype": "text/x-python",
   "name": "python",
   "nbconvert_exporter": "python",
   "pygments_lexer": "ipython3",
   "version": "3.8.8"
  }
 },
 "nbformat": 4,
 "nbformat_minor": 5
}
