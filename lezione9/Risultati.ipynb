{
 "cells": [
  {
   "cell_type": "markdown",
   "id": "612d0826",
   "metadata": {},
   "source": [
    "# RISULTATI ESERCITAZIONE 9\n",
    "\n",
    "Per compilare i programmi scritti in c++, è sufficientemente digitare il comando \"make compila\".\n",
    "\n",
    "## Introduzione\n",
    "\n",
    "Il problema del travelling salesman (TSP) consiste nel cercare il percorso tra $N$ città che minimizza la distanza percorsa e in modo che ogni città sia attraversata una volta sola e che la città iniziale coincida con quella finale. Il TSP è un problema di ottimizzazione, ossia un problema dove bisogna minimizzare una funzione costo: per l'esercizio la funzione costo utilizzata è $$L^{(1)}(\\vec{x}_1, \\vec{x}_2, \\dots, \\vec{x}_N) = \\sum_{i=1}^{N} |\\vec{x}_i-\\vec{x}_{i+1}|,$$ con $\\vec{x}_{N+1}=\\vec{x}_1$. La sequenza di città, identificata nell'esercizio con un vettore 1D di numeri interi di $N$ componenti tutte diverse tra di loro, che minimizza la funzione costo, è la soluzione del TSP. Per la risoluzione dell'esercizio è stato utilizzato un algoritmo genetico, ossia un algoritmo che crea una popolazione iniziale con $m$ sequenze e che attraverso incroci e mutazioni, implementati tramite operatori di crossover e mutazione, crea nuove sequenze migliori fino a trovare quella che risolve il problema.\n",
    "\n",
    "## Esercizio 1\n",
    "\n",
    "L'esercizio richiede di risolvere il problema del commesso viaggiatore per $N=34$ città utilizzando un algoritmo genetico in due casi diversi:\n",
    "\n",
    "1) nel caso in cui le città siano disposte su una circonferenza;\n",
    "\n",
    "2) nel caso in cui le città siano disposte all'interno di un quadrato.\n",
    "\n",
    "In particolare, l'esercizio richiede di disegnare i grafici del costo $L_{best}$ della migliore sequenza e del costo medio $\\langle L \\rangle$ della metà migliore della popolazione in funzione del numero di generazioni e del miglior percorso previsto dall'algoritmo.\n",
    "\n",
    "Per risolvere l'esercizio sono state create due classi rispettivamente nei file d'intestazione dna.h e algoritmo_genetico.h:\n",
    "\n",
    "1) la classe DNA: questa classe contiene come variabili private una sequenza di numeri che rappresenta l'ordine di percorrenza delle città e il fitness, ossia il costo, relativo alla sequenza. I metodi più importanti di questa classe sono:\n",
    "   - calcola_fitness: questo metodo calcola il costo relativo alla sequenza;\n",
    "   - crossover: questo metodo applica il crossover tra due genitori. L'operatore di crossover implementato è il seguente: viene presa una sequenza casuale di città da un genitore e viene copiata nel figlio e poi sono copiate le restanti città nell'ordine in cui sono trovate nell'altro genitore;\n",
    "   - cambio_geni: questo metodo è un operatore di mutazione che consiste nello scambio di due città nella sequenza;\n",
    "   - ricerca_locale: questo metodo accelera la convergenza dell'algoritmo applicando una ricerca locale ad una sequenza di città. In particolare, questo metodo inverte continuamente sequenze di città finché il fitness migliora. \n",
    "   \n",
    "2) la classe algoritmo_genetico: questa classe contiene la popolazione e i metodi necessari a inizializzare tale popolazione e passare alla prossima generazione. I metodi più importanti sono:\n",
    "   - crea_popolazione_iniziale: questo metodo crea la popolazione iniziale, consistente in $m$ sequenze casuali di $N$ numeri interi;\n",
    "   - creazione_scelta_DNA: questo metodo crea un vettore con i genitori candidati in modo tale che le sequenze con un fitness migliore abbiano una probabilità maggiore di essere scelte;\n",
    "   - selezione: questo metodo sceglie casualmente due genitori tra tutti quelli candidati;\n",
    "   - evoluzione: questo metodo permette di passare alla generazione successiva. Per passare alla generazione successiva sono selezionati per $m/2$ volte due genitori che si ricombinano con una certa probabilità, producendo due figli che possono mutare con una certa probabilità e su cui è attuata una ricerca locale per trovare la sequenza migliore. Dopodiché, le nuove sequenze così ottenute sono state sostituite a quelle vecchie, ottenendo una nuova generazione.\n",
    "   \n",
    "Con queste due classi è possibile risolvere l'esercizio. Il programma esercizio1_parte1.exe sfrutta queste due classi per produrre i dati richiesti dall'esercitazione. Per risolvere l'esercizio è stato scelto $m=200$, una probabilità di crossover e mutazione pari a $0.9$ e $0.02$ e $15$ generazioni. Dopo aver prodotto i dati, il programma esercizio1_parte2.exe disegna i grafici richiesti dall'esercitazione.\n",
    "\n",
    "Per quanto riguarda il punto 1) dell'esercizio, le città sono state disposte su una circonferenza di raggio 1. I grafici ottenuti del costo migliore e della media del costo della metà migliore della popolazione in funzione del numero di generazioni sono riportati di seguito:"
   ]
  },
  {
   "cell_type": "markdown",
   "id": "0acf2e80",
   "metadata": {},
   "source": [
    "<img src = \"Pictures/fitness_best_circle.jpg\">\n",
    "<img src = \"Pictures/average_fitness_circle.jpg\">"
   ]
  },
  {
   "cell_type": "markdown",
   "id": "ea4d4e37",
   "metadata": {},
   "source": [
    "Come si può notare dai grafici, $L_{best}$ e $\\langle L \\rangle$ diminuiscono molto dalla prima alla seconda generazione: l'algoritmo converge velocemente grazie alla ricerca locale della soluzione, quindi dalla prima alla seconda generazione il fitness della migliore sequenza e medio aumenta molto. Dopo la seconda generazione, $L_{best}$ rimane costante poiché è già stata individuata la sequenza che risolve il TSP, mentre $\\langle L \\rangle$ varia leggermente al passare delle generazioni, avvicinandosi al valore di $L_{best}$. Per verificare di aver trovato la sequenza che minimizza la funzione costo, di seguito è riportato il percorso fra le diverse città che corrisponde al fitness migliore:"
   ]
  },
  {
   "cell_type": "markdown",
   "id": "8a8a0d94",
   "metadata": {},
   "source": [
    "<img src = \"Pictures/percorso_circle.jpg\">"
   ]
  },
  {
   "cell_type": "markdown",
   "id": "cfdc9d9b",
   "metadata": {},
   "source": [
    "Come si può notare dal grafico, l'algoritmo è riuscito a trovare il percorso migliore: infatti, per $N=34$ città disposte su una circonferenza, il percorso migliore è quello che crea una circonferenza come quella mostrata in figura. Così facendo, è stato risolto il punto 1) dell'esercizio ed è stato mostrato il corretto funzionamento dell'algoritmo genetico.\n",
    "\n",
    "Per quanto riguarda il punto 2) dell'esercizio, le città sono state disposte all'interno di un quadrato di lato 2 con i vertici nei punti (0,0), (2,0), (2,2) e (0,2). I grafici di $L_{best}$ e $\\langle L \\rangle$ in funzione del numero di generazioni ottenuti sono i seguenti:"
   ]
  },
  {
   "cell_type": "markdown",
   "id": "c3266877",
   "metadata": {},
   "source": [
    "<img src = \"Pictures/fitness_best_square.jpg\">\n",
    "<img src = \"Pictures/average_fitness_square.jpg\">"
   ]
  },
  {
   "cell_type": "markdown",
   "id": "6a72acf9",
   "metadata": {},
   "source": [
    "Delle osservazioni simili fatte al punto 1) possono essere fatte per il punto 2): dalla prima alla seconda generazione $L_{best}$ e $\\langle L \\rangle$ diminuiscono molto a causa della ricerca locale che accelera la convergenza dell'algoritmo. A partire dalla generazione $5$, $L_{best}$ rimane costante poiché è stata trovata la soluzione del TSP, mentre $\\langle L \\rangle$ varia leggermente. Il cammino migliore trovato dall'algoritmo per le città disposte all'interno del quadrato può essere visto nella seguente immagine:"
   ]
  },
  {
   "cell_type": "markdown",
   "id": "07d7b8b8",
   "metadata": {},
   "source": [
    "<img src = \"Pictures/percorso_square.jpg\">"
   ]
  },
  {
   "cell_type": "markdown",
   "id": "e1548599",
   "metadata": {},
   "source": [
    "A differenza del punto 1), in questo caso è difficile capire semplicemente guardando il grafico quale sentiero sia quello che effettivamente minimizza la funzione costo, tuttavia, guardando il sentiero migliore riportato sopra, si può affermare che l'algoritmo ha sicuramente trovato una buona sequenza di viaggio tra le città in quanto la funzione costo è relativamente bassa."
   ]
  }
 ],
 "metadata": {
  "kernelspec": {
   "display_name": "Python 3",
   "language": "python",
   "name": "python3"
  },
  "language_info": {
   "codemirror_mode": {
    "name": "ipython",
    "version": 3
   },
   "file_extension": ".py",
   "mimetype": "text/x-python",
   "name": "python",
   "nbconvert_exporter": "python",
   "pygments_lexer": "ipython3",
   "version": "3.8.8"
  }
 },
 "nbformat": 4,
 "nbformat_minor": 5
}
